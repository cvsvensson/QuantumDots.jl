{
 "cells": [
  {
   "cell_type": "code",
   "execution_count": null,
   "metadata": {},
   "outputs": [],
   "source": [
    "using Pkg\n",
    "#Pkg.develop(\"QuantumDots\")\n",
    "Pkg.activate(pwd())\n",
    "Pkg.instantiate()\n",
    "using QuantumDots, Plots, LinearAlgebra, OrdinaryDiffEqTsit5, SteadyStateDiffEq"
   ]
  },
  {
   "cell_type": "code",
   "execution_count": null,
   "metadata": {},
   "outputs": [],
   "source": [
    "Q = QuantumDots.QubitOperators(hilbert_space(1:1))\n",
    "H(t) = Q[1, :X] * exp(-sin(t)^2) + Q[1, :Z]\n",
    "L = Q[1, :Z]\n",
    "dρ(ρ, γ, t) = -1im * (H(t) * ρ - ρ * H(t)) + γ * (L * ρ * L' - 1 / 2 * (L'L * ρ + ρ * L'L))"
   ]
  },
  {
   "cell_type": "code",
   "execution_count": null,
   "metadata": {},
   "outputs": [],
   "source": [
    "tspan = (0.0, 20.0)\n",
    "ρ₀ = [1.0+0im 0; 0 0] #Initial condition\n",
    "γ = 0.1 #Dephasing rate\n",
    "\n",
    "##Solve ODE\n",
    "prob = ODEProblem(dρ, ρ₀, tspan, γ)\n",
    "sol = solve(prob, Tsit5())\n",
    "\n",
    "#Solve for steady state\n",
    "ssprob = SteadyStateProblem(dρ, ρ₀, γ)\n",
    "ssol = solve(ssprob, DynamicSS(Tsit5()), abstol=1e-4)\n",
    "\n",
    "#Calculate Bloch vectors\n",
    "ts = range(tspan..., length=300)\n",
    "bloch_vectors = hcat([2real(QuantumDots.bloch_vector(sol(t), 1, Q)) for t in ts]...) |> transpose\n",
    "stationary_bloch = 2real(QuantumDots.bloch_vector(ssol.u, 1, Q))\n",
    "\n",
    "#Plot result\n",
    "plot(ts, bloch_vectors, label=[\"X\" \"Y\" \"Z\"])\n",
    "plot!([ts[1], ts[end]], hcat(stationary_bloch, stationary_bloch) |> transpose, label=\"steady\" .* [\"X\" \"Y\" \"Z\"], style=:dash)"
   ]
  },
  {
   "cell_type": "code",
   "execution_count": null,
   "metadata": {},
   "outputs": [],
   "source": [
    "function plot_bloch(points; res=100)\n",
    "    φ_range1 = range(0, stop=2 * π, length=res)\n",
    "    λ_range1 = range(0, stop=π, length=7)\n",
    "    φ_range2 = range(0, stop=π, length=7)\n",
    "    λ_range2 = range(0, stop=2π, length=res)\n",
    "    x1 = [cos(φ) * sin(λ) for φ ∈ φ_range1, λ ∈ λ_range1]\n",
    "    y1 = [sin(φ) * sin(λ) for φ ∈ φ_range1, λ ∈ λ_range1]\n",
    "    z1 = [cos(λ) for φ ∈ φ_range1, λ ∈ λ_range1]\n",
    "    x2 = [cos(φ) * sin(λ) for φ ∈ φ_range2, λ ∈ λ_range2]\n",
    "    y2 = [sin(φ) * sin(λ) for φ ∈ φ_range2, λ ∈ λ_range2]\n",
    "    z2 = [cos(λ) for φ ∈ φ_range2, λ ∈ λ_range2]\n",
    "    sp = plot(xlims=(-1, 1), ylims=(-1, 1), zlims=(-1, 1))\n",
    "    foreach(n -> plot!(sp, x1[:, n], y1[:, n], z1[:, n], c=:black, legend=:none, alpha = .5), eachindex(eachcol(z1)))\n",
    "    foreach(n -> plot!(sp, x2[n, :], y2[n, :], z2[n, :], c=:black,  alpha = .5), eachindex(eachrow(z2)))\n",
    "    ps = range(0,1,20)\n",
    "    v = points[end,:]\n",
    "    plot!(sp, eachcol(points)..., linewidth= 3)\n",
    "    plot!(sp, ps * v[1], ps*v[2], ps*v[3], c=:red, linewidth = 5, seriesalpha = ps)\n",
    "    return sp\n",
    "end"
   ]
  },
  {
   "cell_type": "code",
   "execution_count": null,
   "metadata": {},
   "outputs": [],
   "source": [
    "anim = @animate for n ∈ eachindex(eachrow(bloch_vectors))\n",
    "    points = bloch_vectors[1:n, :]\n",
    "    plot_bloch(points)\n",
    "end\n",
    "gif(anim, \"anim_fps15.gif\", fps=15)"
   ]
  },
  {
   "cell_type": "code",
   "execution_count": null,
   "metadata": {},
   "outputs": [],
   "source": []
  }
 ],
 "metadata": {
  "kernelspec": {
   "display_name": "Julia 1.11.5",
   "language": "julia",
   "name": "julia-1.11"
  },
  "language_info": {
   "file_extension": ".jl",
   "mimetype": "application/julia",
   "name": "julia",
   "version": "1.11.5"
  },
  "orig_nbformat": 4
 },
 "nbformat": 4,
 "nbformat_minor": 2
}
