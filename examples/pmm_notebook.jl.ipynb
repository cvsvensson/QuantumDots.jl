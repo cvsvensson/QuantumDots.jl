{
 "cells": [
  {
   "cell_type": "code",
   "execution_count": 83,
   "id": "05132d69",
   "metadata": {},
   "outputs": [
    {
     "name": "stderr",
     "output_type": "stream",
     "text": [
      "\u001b[32m\u001b[1m  Activating\u001b[22m\u001b[39m project at `c:\\Users\\vi2823sv\\.julia\\dev\\QuantumDots\\examples`\n"
     ]
    }
   ],
   "source": [
    "using Pkg\n",
    "Pkg.activate(pwd())\n",
    "Pkg.instantiate()\n",
    "Pkg.develop(\"QuantumDots\")\n",
    "using QuantumDots, QuantumDots.BlockDiagonals, LinearAlgebra\n",
    "using Plots\n",
    "#using Symbolics\n",
    "using Latexify\n",
    "#using LinearSolve # Solving for stationary state\n",
    "#using OrdinaryDiffEq # For time evolution\n",
    "using SymPy # For analytic solutions"
   ]
  },
  {
   "cell_type": "markdown",
   "id": "64510c83",
   "metadata": {},
   "source": [
    "**Table of contents**<a id='toc0_'></a>    \n",
    "- [Intro to QuantumDots.jl](#toc1_)    \n",
    "    - [Defining a basis](#toc1_1_1_)    \n",
    "    - [Kitaev chain hamiltonian](#toc1_1_2_)    \n",
    "    - [Majorana polarization](#toc1_1_3_)    \n",
    "    - [Using SymPy for analytical solutions](#toc1_1_4_)    \n",
    "    - [Transport](#toc1_1_5_)    \n",
    "\n",
    "<!-- vscode-jupyter-toc-config\n",
    "\tnumbering=false\n",
    "\tanchor=true\n",
    "\tflat=false\n",
    "\tminLevel=1\n",
    "\tmaxLevel=6\n",
    "\t/vscode-jupyter-toc-config -->\n",
    "<!-- THIS CELL WILL BE REPLACED ON TOC UPDATE. DO NOT WRITE YOUR TEXT IN THIS CELL -->"
   ]
  },
  {
   "cell_type": "markdown",
   "id": "a8c7e8e0",
   "metadata": {},
   "source": [
    "# <a id='toc1_'></a>[Intro to QuantumDots.jl](#toc0_)"
   ]
  },
  {
   "cell_type": "markdown",
   "id": "20c613db",
   "metadata": {},
   "source": [
    "### <a id='toc1_1_1_'></a>[Defining a basis](#toc0_)\n",
    "To specify a basis, define the indices and optionally a conserved quantum number\n"
   ]
  },
  {
   "cell_type": "code",
   "execution_count": 2,
   "id": "97670e10",
   "metadata": {},
   "outputs": [
    {
     "data": {
      "text/plain": [
       "FermionBasis{4,Tuple{Int64, Symbol},SparseArrays.SparseMatrixCSC{Int64, Int64},QuantumDots.AbelianFockSymmetry{Vector{Int64}, Dictionaries.Dictionary{Int64, Int64}, Int64, typeof(QuantumDots.fermionnumber)}}:\n",
       "keys = {(1, :↑), (2, :↑), (1, :↓), (2, :↓)}"
      ]
     },
     "metadata": {},
     "output_type": "display_data"
    }
   ],
   "source": [
    "N=2\n",
    "d = FermionBasis(1:N, (:↑, :↓); qn = QuantumDots.fermionnumber)"
   ]
  },
  {
   "cell_type": "markdown",
   "id": "a8117c72",
   "metadata": {},
   "source": [
    "The basis allows easy access to the fermionic operators in the many body basis, as well as dictionaries that define how the basis is ordered"
   ]
  },
  {
   "cell_type": "code",
   "execution_count": 3,
   "id": "fd9de6f3",
   "metadata": {},
   "outputs": [
    {
     "data": {
      "text/plain": [
       "16×16 SparseArrays.SparseMatrixCSC{Int64, Int64} with 8 stored entries:\n",
       "⎡⠈⠀⠠⡀⠀⠀⠀⠀⎤\n",
       "⎢⠀⠀⠀⠀⠁⢀⠀⠀⎥\n",
       "⎢⠀⠀⠀⠀⠀⠀⠢⠀⎥\n",
       "⎣⠀⠀⠀⠀⠀⠀⠀⠠⎦"
      ]
     },
     "metadata": {},
     "output_type": "display_data"
    }
   ],
   "source": [
    "d[1,:↑] #is a SparseArray representation of the annihilation operator"
   ]
  },
  {
   "cell_type": "code",
   "execution_count": 4,
   "id": "c20141c0",
   "metadata": {},
   "outputs": [
    {
     "data": {
      "text/plain": [
       "16×16 Matrix{Int64}:\n",
       " 0  0  0  0  0  0  0  0  0  0  0  0  0  0  0  0\n",
       " 0  0  0  0  0  0  0  0  0  0  0  0  0  0  0  0\n",
       " 0  0  0  0  0  0  0  0  0  0  0  0  0  0  0  0\n",
       " 0  0  0  0  0  0  0  0  0  0  0  0  0  0  0  0\n",
       " 1  0  0  0  0  0  0  0  0  0  0  0  0  0  0  0\n",
       " 0  0  0  0  0  0  0  0  0  0  0  0  0  0  0  0\n",
       " 0  0  0  0  0  0  0  0  0  0  0  0  0  0  0  0\n",
       " 0  0  0  0  0  0  0  0  0  0  0  0  0  0  0  0\n",
       " 0  1  0  0  0  0  0  0  0  0  0  0  0  0  0  0\n",
       " 0  0  1  0  0  0  0  0  0  0  0  0  0  0  0  0\n",
       " 0  0  0  1  0  0  0  0  0  0  0  0  0  0  0  0\n",
       " 0  0  0  0  0  0  0  0  0  0  0  0  0  0  0  0\n",
       " 0  0  0  0  0  1  0  0  0  0  0  0  0  0  0  0\n",
       " 0  0  0  0  0  0  1  0  0  0  0  0  0  0  0  0\n",
       " 0  0  0  0  0  0  0  1  0  0  0  0  0  0  0  0\n",
       " 0  0  0  0  0  0  0  0  0  0  0  1  0  0  0  0"
      ]
     },
     "metadata": {},
     "output_type": "display_data"
    }
   ],
   "source": [
    "Matrix(d[N,:↓]') # Creation operator. ' is hermitian conjugate. Use Matrix to convert to dense matrix."
   ]
  },
  {
   "cell_type": "code",
   "execution_count": 5,
   "id": "7590a6bb",
   "metadata": {},
   "outputs": [
    {
     "data": {
      "text/plain": [
       "16×16 SparseArrays.SparseMatrixCSC{Int64, Int64} with 8 stored entries:\n",
       "⎡⠐⠀⠀⠀⠀⠀⠀⠀⎤\n",
       "⎢⠀⠀⠐⠄⠀⠀⠀⠀⎥\n",
       "⎢⠀⠀⠀⠀⠁⢀⠀⠀⎥\n",
       "⎣⠀⠀⠀⠀⠀⠀⠑⢀⎦"
      ]
     },
     "metadata": {},
     "output_type": "display_data"
    }
   ],
   "source": [
    "d[1,:↑]'d[1,:↑] # Number operator "
   ]
  },
  {
   "cell_type": "code",
   "execution_count": 6,
   "id": "8b25fe60",
   "metadata": {},
   "outputs": [
    {
     "data": {
      "text/plain": [
       "1×1 SparseArrays.SparseMatrixCSC{Int64, Int64} with 0 stored entries:\n",
       " ⋅"
      ]
     },
     "metadata": {},
     "output_type": "display_data"
    },
    {
     "data": {
      "text/plain": [
       "4×4 SparseArrays.SparseMatrixCSC{Int64, Int64} with 4 stored entries:\n",
       " 1  ⋅  ⋅  ⋅\n",
       " ⋅  1  ⋅  ⋅\n",
       " ⋅  ⋅  1  ⋅\n",
       " ⋅  ⋅  ⋅  1"
      ]
     },
     "metadata": {},
     "output_type": "display_data"
    },
    {
     "data": {
      "text/plain": [
       "6×6 SparseArrays.SparseMatrixCSC{Int64, Int64} with 6 stored entries:\n",
       " 2  ⋅  ⋅  ⋅  ⋅  ⋅\n",
       " ⋅  2  ⋅  ⋅  ⋅  ⋅\n",
       " ⋅  ⋅  2  ⋅  ⋅  ⋅\n",
       " ⋅  ⋅  ⋅  2  ⋅  ⋅\n",
       " ⋅  ⋅  ⋅  ⋅  2  ⋅\n",
       " ⋅  ⋅  ⋅  ⋅  ⋅  2"
      ]
     },
     "metadata": {},
     "output_type": "display_data"
    },
    {
     "data": {
      "text/plain": [
       "4×4 SparseArrays.SparseMatrixCSC{Int64, Int64} with 4 stored entries:\n",
       " 3  ⋅  ⋅  ⋅\n",
       " ⋅  3  ⋅  ⋅\n",
       " ⋅  ⋅  3  ⋅\n",
       " ⋅  ⋅  ⋅  3"
      ]
     },
     "metadata": {},
     "output_type": "display_data"
    },
    {
     "data": {
      "text/plain": [
       "1×1 SparseArrays.SparseMatrixCSC{Int64, Int64} with 1 stored entry:\n",
       " 4"
      ]
     },
     "metadata": {},
     "output_type": "display_data"
    },
    {
     "data": {
      "text/plain": [
       "5-element Vector{Nothing}:\n",
       " nothing\n",
       " nothing\n",
       " nothing\n",
       " nothing\n",
       " nothing"
      ]
     },
     "metadata": {},
     "output_type": "display_data"
    }
   ],
   "source": [
    "blockdiagonal(sum(f -> f'f, d), d) |> blocks .|> display; # Blocks of number operator"
   ]
  },
  {
   "cell_type": "code",
   "execution_count": 7,
   "id": "f5dbb39e",
   "metadata": {},
   "outputs": [
    {
     "data": {
      "text/plain": [
       "5-element Dictionaries.Dictionary{Int64, Vector{Int64}}\n",
       " 0 │ [0]\n",
       " 1 │ [1, 2, 4, 8]\n",
       " 2 │ [3, 5, 6, 9, 10, 12]\n",
       " 3 │ [7, 11, 13, 14]\n",
       " 4 │ [15]"
      ]
     },
     "metadata": {},
     "output_type": "display_data"
    }
   ],
   "source": [
    "d.symmetry.qntofockstates"
   ]
  },
  {
   "cell_type": "code",
   "execution_count": 8,
   "id": "9d3d42e3",
   "metadata": {},
   "outputs": [
    {
     "data": {
      "text/plain": [
       "16-element Vector{Int64}:\n",
       "  0\n",
       "  1\n",
       "  2\n",
       "  4\n",
       "  8\n",
       "  3\n",
       "  5\n",
       "  6\n",
       "  9\n",
       " 10\n",
       " 12\n",
       "  7\n",
       " 11\n",
       " 13\n",
       " 14\n",
       " 15"
      ]
     },
     "metadata": {},
     "output_type": "display_data"
    }
   ],
   "source": [
    "d.symmetry.indtofockdict"
   ]
  },
  {
   "cell_type": "code",
   "execution_count": 9,
   "id": "76f16e5a",
   "metadata": {},
   "outputs": [
    {
     "name": "stdout",
     "output_type": "stream",
     "text": [
      "labels = |(1, :↑)(2, :↑)(1, :↓)(2, :↓)>\n",
      "QN = 0\n",
      " |0000> : 0.956\n",
      "QN = 1\n",
      " |1000> : 0.739\n",
      " |010"
     ]
    },
    {
     "name": "stdout",
     "output_type": "stream",
     "text": [
      "0> : 0.927\n",
      " |0010> : 0.037\n",
      " |0001> : 0.693\n",
      "QN = 2\n",
      " |1100> : 0.313\n",
      " |1010> : 0.298\n",
      " |0110> : 0.176\n",
      " |1001> : 0.043\n",
      " |0101> : 0.681\n",
      " |0011> : 0.865\n",
      "QN = 3\n",
      " |1110> : 0.692\n",
      " |1101> : 0.967\n",
      " |1011> : 0.777\n",
      " |0111> : 0.133\n",
      "QN = 4\n",
      " |1111> : 0.291\n"
     ]
    }
   ],
   "source": [
    "print(rand(4^N), d)"
   ]
  },
  {
   "cell_type": "markdown",
   "id": "f68f335a",
   "metadata": {},
   "source": [
    "Any quantum number which is diagonal in the fock basis is supported"
   ]
  },
  {
   "cell_type": "code",
   "execution_count": 10,
   "id": "7c9fb57e",
   "metadata": {},
   "outputs": [
    {
     "data": {
      "text/plain": [
       "FermionBasis{2,Int64,SparseArrays.SparseMatrixCSC{Int64, Int64},QuantumDots.AbelianFockSymmetry{Vector{Int64}, Dictionaries.Dictionary{Int64, Int64}, Symbol, typeof(uniqn)}}:\n",
       "keys = {1, 2}"
      ]
     },
     "metadata": {},
     "output_type": "display_data"
    }
   ],
   "source": [
    "uniqn(focknbr) =\n",
    "    if iseven(focknbr)\n",
    "        return :🦄\n",
    "    else\n",
    "        if focknbr > 2\n",
    "            return :👹\n",
    "        else\n",
    "            return :🌯\n",
    "        end\n",
    "    end\n",
    "d2 = FermionBasis(1:2; qn=uniqn)"
   ]
  },
  {
   "cell_type": "code",
   "execution_count": 11,
   "id": "3597d3a3",
   "metadata": {},
   "outputs": [
    {
     "name": "stdout",
     "output_type": "stream",
     "text": [
      "labels = |12>\n",
      "QN = "
     ]
    },
    {
     "name": "stdout",
     "output_type": "stream",
     "text": [
      "🌯\n",
      " |10> : 0.435\n",
      "QN = 👹\n",
      " |11> : 0.29\n",
      "QN = 🦄\n",
      " |00> : 0.903\n",
      " |01> : 0.9\n"
     ]
    }
   ],
   "source": [
    "print(rand(2^length(d2)), d2)"
   ]
  },
  {
   "cell_type": "markdown",
   "id": "86595b48",
   "metadata": {},
   "source": [
    "There is also a free fermion version"
   ]
  },
  {
   "cell_type": "code",
   "execution_count": 12,
   "id": "21fa456a",
   "metadata": {},
   "outputs": [
    {
     "data": {
      "text/plain": [
       "8×8 SparseArrays.SparseMatrixCSC{Int64, Int64} with 8 stored entries:\n",
       " 1  ⋅  ⋅  ⋅   ⋅   ⋅   ⋅   ⋅\n",
       " ⋅  1  ⋅  ⋅   ⋅   ⋅   ⋅   ⋅\n",
       " ⋅  ⋅  1  ⋅   ⋅   ⋅   ⋅   ⋅\n",
       " ⋅  ⋅  ⋅  1   ⋅   ⋅   ⋅   ⋅\n",
       " ⋅  ⋅  ⋅  ⋅  -1   ⋅   ⋅   ⋅\n",
       " ⋅  ⋅  ⋅  ⋅   ⋅  -1   ⋅   ⋅\n",
       " ⋅  ⋅  ⋅  ⋅   ⋅   ⋅  -1   ⋅\n",
       " ⋅  ⋅  ⋅  ⋅   ⋅   ⋅   ⋅  -1"
      ]
     },
     "metadata": {},
     "output_type": "display_data"
    }
   ],
   "source": [
    "b = QuantumDots.FermionBdGBasis(1:N, (:↑, :↓))\n",
    "sum(f -> f'f, b)"
   ]
  },
  {
   "cell_type": "markdown",
   "id": "10adb053",
   "metadata": {},
   "source": [
    "### <a id='toc1_1_2_'></a>[Kitaev chain hamiltonian](#toc0_)\n",
    "We'll implement the interacting Kitaev chain hamiltonian\n",
    "$$\n",
    "\\begin{equation}\n",
    "H = \\sum_{n = 1}^N \\mu c_n^\\dagger c_n + \\sum_{n=1}^{N-1} (t c_{n+1}^\\dagger c_n + \\Delta c_{n+1}c_n + \\mathrm{h.c}) + V c_{n+1}^\\dagger c_{n+1} c_n^\\dagger c_n,\n",
    "\\end{equation}\n",
    "$$\n",
    "and calculate the energy gap and majorana polarization. We'll use these to tune for a sweet spot where the system has two separated majoranas."
   ]
  },
  {
   "cell_type": "code",
   "execution_count": 72,
   "id": "b67caf05",
   "metadata": {},
   "outputs": [
    {
     "data": {
      "text/plain": [
       "ham_int (generic function with 2 methods)"
      ]
     },
     "metadata": {},
     "output_type": "display_data"
    }
   ],
   "source": [
    "N = 2\n",
    "c = FermionBasis(1:N, qn=QuantumDots.parity)\n",
    "cBdG = QuantumDots.FermionBdGBasis(1:N)\n",
    "ham(μ, t, Δ, V, c=c) = Hermitian(sum(μ * c[n]'c[n] for n in 1:N) + sum(t * c[n+1]'c[n] + Δ * c[n+1]c[n] + hc for n in 1:N-1) .+ ham_int(V, c))\n",
    "ham_int(V, c) = V * sum(c[n]'c[n]c[n+1]'c[n+1] for n in 1:N-1)\n",
    "ham_int(V, c::QuantumDots.FermionBdGBasis) = 0"
   ]
  },
  {
   "cell_type": "code",
   "execution_count": 73,
   "id": "831107ea",
   "metadata": {},
   "outputs": [
    {
     "data": {
      "text/plain": [
       "(μ, t, Δ, V)"
      ]
     },
     "metadata": {},
     "output_type": "display_data"
    }
   ],
   "source": [
    "@syms μ::real t::real Δ::real V::real"
   ]
  },
  {
   "cell_type": "code",
   "execution_count": 82,
   "id": "f67a069b",
   "metadata": {},
   "outputs": [
    {
     "data": {
      "text/plain": [
       "4×4 Hermitian{Sym, SparseArrays.SparseMatrixCSC{Sym, Int64}}:\n",
       " μ  t   0        0\n",
       " t  μ   0        0\n",
       " 0  0   0       -Δ\n",
       " 0  0  -Δ  V + 2*μ"
      ]
     },
     "metadata": {},
     "output_type": "display_data"
    }
   ],
   "source": [
    "#Many body hamiltonian\n",
    "ham(μ, t, Δ, V) # |> latexify |> println # Uncomment to print latex code "
   ]
  },
  {
   "cell_type": "code",
   "execution_count": 75,
   "id": "adcc4171",
   "metadata": {},
   "outputs": [
    {
     "data": {
      "text/plain": [
       "4×4 Hermitian{Sym, SparseArrays.SparseMatrixCSC{Sym, Int64}}:\n",
       " μ   t   0   Δ\n",
       " t   μ  -Δ   0\n",
       " 0  -Δ  -μ  -t\n",
       " Δ   0  -t  -μ"
      ]
     },
     "metadata": {},
     "output_type": "display_data"
    }
   ],
   "source": [
    "ham(μ, t, Δ, V, cBdG) #BdG hamiltonian"
   ]
  },
  {
   "cell_type": "code",
   "execution_count": 76,
   "id": "16eb328f",
   "metadata": {},
   "outputs": [
    {
     "data": {
      "text/plain": [
       "4×4 Hermitian{Float64, SparseArrays.SparseMatrixCSC{Float64, Int64}}:\n",
       " 0.5  1.0   0.0   0.0\n",
       " 1.0  0.5   0.0   0.0\n",
       " 0.0  0.0   0.0  -0.5\n",
       " 0.0  0.0  -0.5   1.2"
      ]
     },
     "metadata": {},
     "output_type": "display_data"
    }
   ],
   "source": [
    "ham(0.5, 1.0, 0.5, 0.2)"
   ]
  },
  {
   "cell_type": "markdown",
   "id": "3f058a2f",
   "metadata": {},
   "source": [
    "#### Diagonalizing the Hamiltonian"
   ]
  },
  {
   "cell_type": "code",
   "execution_count": null,
   "id": "4c7b2c26",
   "metadata": {},
   "outputs": [],
   "source": []
  },
  {
   "cell_type": "markdown",
   "id": "e7594934",
   "metadata": {},
   "source": [
    "#### <a id='toc1_1_3_'></a>[Majorana quality measures](#toc0_)\n",
    "The Majorana Polarization $MP_R$ is a measure of how much the left and right majorana overlap in the region R. The larger it is, the smaller the overlap between the majoranas.\n",
    "$$\\begin{align*}\n",
    "w_n &= \\lang \\psi_o | (c_n^\\dagger + c_n)  | \\psi_e \\rang \\\\\n",
    "z_n &= \\lang \\psi_o | (c_n^\\dagger - c_n)  | \\psi_e \\rang \\\\\n",
    "MP_R &= \\left| \\sum_{n \\in R} w_n^2 - z_n^2 \\right|\n",
    "\\end{align*}$$\n"
   ]
  },
  {
   "cell_type": "code",
   "execution_count": 28,
   "id": "4f3c5aa4",
   "metadata": {},
   "outputs": [
    {
     "data": {
      "text/plain": [
       "MP (generic function with 2 methods)"
      ]
     },
     "metadata": {},
     "output_type": "display_data"
    }
   ],
   "source": [
    "function MP(ψₒ, ψₑ, R, c=c)\n",
    "    w = map(f -> ψₒ' * (f' + f) * ψₑ, c)\n",
    "    z = map(f -> ψₒ' * (f' - f) * ψₑ, c)\n",
    "    abs(sum(w[n]^2 - z[n]^2 for n in R))\n",
    "end"
   ]
  },
  {
   "cell_type": "markdown",
   "id": "9925ae52",
   "metadata": {},
   "source": [
    "The Local Distinguishability $LD_R$ measures how much the even and odd ground states can be distinguished based on measurements in the region R. \n",
    "$$\\begin{align*}\n",
    "\\delta \\rho &= |\\psi_o \\rang \\lang \\psi_o | - |\\psi_e \\rang \\lang \\psi_e | \\\\\n",
    "LD_R &=  \\| \\operatorname{Tr}_{R^c}[\\delta\\rho] \\|\n",
    "\\end{align*}$$"
   ]
  },
  {
   "cell_type": "code",
   "execution_count": 6,
   "id": "1c91ab1f",
   "metadata": {},
   "outputs": [
    {
     "data": {
      "text/plain": [
       "LD (generic function with 2 methods)"
      ]
     },
     "metadata": {},
     "output_type": "display_data"
    }
   ],
   "source": [
    "function LD(ψₒ, ψₑ, R, c=c)\n",
    "    δρ = ψₒψₒ' - ψₑψₑ'\n",
    "    norm(reduced_density_matrix(δρ, R, c))\n",
    "end"
   ]
  },
  {
   "cell_type": "code",
   "execution_count": 111,
   "id": "1eb12cd5",
   "metadata": {},
   "outputs": [
    {
     "data": {
      "text/latex": [
       "$\\left|{\\left(\\frac{2 Δ}{V + 2 μ - \\sqrt{V^{2} + 4 V μ + 4 Δ^{2} + 4 μ^{2}}} - 1\\right)^{2} - \\left(\\frac{2 Δ}{V + 2 μ - \\sqrt{V^{2} + 4 V μ + 4 Δ^{2} + 4 μ^{2}}} + 1\\right)^{2}}\\right|$"
      ],
      "text/plain": [
       "|                                             2                               \n",
       "|/                  2*Δ                      \\    /                  2*Δ      \n",
       "||--------------------------------------- - 1|  - |---------------------------\n",
       "||             __________________________    |    |             ______________\n",
       "||            /  2              2      2     |    |            /  2           \n",
       "|\\V + 2*μ - \\/  V  + 4*V*μ + 4*Δ  + 4*μ      /    \\V + 2*μ - \\/  V  + 4*V*μ + \n",
       "\n",
       "                 2|\n",
       "                \\ |\n",
       "------------ + 1| |\n",
       "____________    | |\n",
       "   2      2     | |\n",
       "4*Δ  + 4*μ      / |"
      ]
     },
     "metadata": {},
     "output_type": "display_data"
    }
   ],
   "source": [
    "MP(vo,ve,c,[1])"
   ]
  },
  {
   "cell_type": "markdown",
   "id": "cd4feabb",
   "metadata": {},
   "source": [
    "### <a id='toc1_1_4_'></a>[Using SymPy for analytical solutions](#toc0_)"
   ]
  },
  {
   "cell_type": "code",
   "execution_count": 91,
   "id": "e39ee55b",
   "metadata": {},
   "outputs": [
    {
     "data": {
      "text/latex": [
       "$\\left[ \\begin{array}{rrrr}μ&t&0&0\\\\t&μ&0&0\\\\0&0&0&- Δ\\\\0&0&- Δ&V + 2 μ\\end{array}\\right]$\n"
      ],
      "text/plain": [
       "4×4 BlockDiagonal{Sym, Hermitian{Sym, SparseArrays.SparseMatrixCSC{Sym, Int64}}}:\n",
       " μ  t   0        0\n",
       " t  μ   0        0\n",
       " 0  0   0       -Δ\n",
       " 0  0  -Δ  V + 2*μ"
      ]
     },
     "metadata": {},
     "output_type": "display_data"
    }
   ],
   "source": [
    "using SymPy\n",
    "@syms μ::real t::real Δ::real V::real\n",
    "H = blockdiagonal(ham(μ, t, Δ, V), c)\n"
   ]
  },
  {
   "cell_type": "code",
   "execution_count": 92,
   "id": "ea089b07",
   "metadata": {},
   "outputs": [
    {
     "data": {
      "text/plain": [
       "2-element Vector{Matrix{Sym}}:\n",
       " [μ t; t μ]\n",
       " [0 -Δ; -Δ V + 2*μ]"
      ]
     },
     "metadata": {},
     "output_type": "display_data"
    }
   ],
   "source": [
    "Mo, Me = sympy.Matrix.(Matrix.(blocks(H)))"
   ]
  },
  {
   "cell_type": "code",
   "execution_count": 93,
   "id": "c679c791",
   "metadata": {},
   "outputs": [
    {
     "data": {
      "text/plain": [
       "(Sym[-2*Δ/(V + 2*μ - sqrt(V^2 + 4*V*μ + 4*Δ^2 + 4*μ^2)) -2*Δ/(V + 2*μ + sqrt(V^2 + 4*V*μ + 4*Δ^2 + 4*μ^2)); 1 1], Sym[V/2 + μ - sqrt(V^2 + 4*V*μ + 4*Δ^2 + 4*μ^2)/2 0; 0 V/2 + μ + sqrt(V^2 + 4*V*μ + 4*Δ^2 + 4*μ^2)/2])"
      ]
     },
     "metadata": {},
     "output_type": "display_data"
    }
   ],
   "source": [
    "vecs_o, vals_o = Mo.diagonalize()\n",
    "vecs_e, vals_e = Me.diagonalize()"
   ]
  },
  {
   "cell_type": "code",
   "execution_count": 63,
   "id": "e84014a3",
   "metadata": {},
   "outputs": [
    {
     "data": {
      "text/latex": [
       "$\\left[ \\begin{array}{r}0\\\\0\\\\- \\frac{2 Δ}{V + 2 μ - \\sqrt{V^{2} + 4 V μ + 4 Δ^{2} + 4 μ^{2}}}\\\\1\\end{array} \\right]$\n"
      ],
      "text/plain": [
       "4-element Vector{Sym}:\n",
       "                                                  0\n",
       "                                                  0\n",
       " -2*Δ/(V + 2*μ - sqrt(V^2 + 4*V*μ + 4*Δ^2 + 4*μ^2))\n",
       "                                                  1"
      ]
     },
     "metadata": {},
     "output_type": "display_data"
    }
   ],
   "source": [
    "Ee = diag(vals_e)[1]\n",
    "ve = vcat(zero(vecs_e[:, 1]), vecs_e[:, 1])"
   ]
  },
  {
   "cell_type": "code",
   "execution_count": 65,
   "id": "2fc1f679",
   "metadata": {},
   "outputs": [
    {
     "data": {
      "text/latex": [
       "$\\left[ \\begin{array}{r}-1\\\\1\\\\0\\\\0\\end{array} \\right]$\n"
      ],
      "text/plain": [
       "4-element Vector{Sym}:\n",
       " -1\n",
       "  1\n",
       "  0\n",
       "  0"
      ]
     },
     "metadata": {},
     "output_type": "display_data"
    }
   ],
   "source": [
    "Eo = diag(vals_o)[1]\n",
    "vo = vcat(vecs_o[:, 1], zero(vecs_o[:, 1]))"
   ]
  },
  {
   "cell_type": "code",
   "execution_count": 94,
   "id": "8b2132a3",
   "metadata": {},
   "outputs": [
    {
     "data": {
      "text/plain": [
       "(mp = Abs(-(-2*Δ/(V + 2*μ - sqrt(V^2 + 4*V*μ + 4*Δ^2 + 4*μ^2)) - 1)^2 + (2*Δ/(V + 2*μ - sqrt(V^2 + 4*V*μ + 4*Δ^2 + 4*μ^2)) - 1)^2)/((-2*Δ/(V + 2*μ - sqrt(V^2 + 4*V*μ + 4*Δ^2 + 4*μ^2)) - 1)*(-2*Δ/(V + 2*μ - conjugate(sqrt(V^2 + 4*V*μ + 4*Δ^2 + 4*μ^2))) - 1) + (2*Δ/(V + 2*μ - sqrt(V^2 + 4*V*μ + 4*Δ^2 + 4*μ^2)) - 1)*(2*Δ/(V + 2*μ - conjugate(sqrt(V^2 + 4*V*μ + 4*Δ^2 + 4*μ^2))) - 1)), mpu = Abs(-(-2*Δ/(V + 2*μ - sqrt(V^2 + 4*V*μ + 4*Δ^2 + 4*μ^2)) - 1)^2 + (2*Δ/(V + 2*μ - sqrt(V^2 + 4*V*μ + 4*Δ^2 + 4*μ^2)) - 1)^2))"
      ]
     },
     "metadata": {},
     "output_type": "display_data"
    }
   ],
   "source": [
    "mp = majorana_polarization(majorana_coefficients(vo, ve, c)..., (1,))"
   ]
  },
  {
   "cell_type": "code",
   "execution_count": 98,
   "id": "2a2595ba",
   "metadata": {},
   "outputs": [
    {
     "data": {
      "text/latex": [
       "$\\mathrm{Abs}\\left(  - \\left( \\frac{-2 \\cdot \\Delta}{V + 2 \\cdot \\mu - \\sqrt{V^{2} + 4 \\cdot V \\cdot \\mu + 4 \\cdot \\Delta^{2} + 4 \\cdot \\mu^{2}}} - 1 \\right)^{2} + \\left( \\frac{2 \\cdot \\Delta}{V + 2 \\cdot \\mu - \\sqrt{V^{2} + 4 \\cdot V \\cdot \\mu + 4 \\cdot \\Delta^{2} + 4 \\cdot \\mu^{2}}} - 1 \\right)^{2} \\right)$"
      ],
      "text/plain": [
       "L\"$\\mathrm{Abs}\\left(  - \\left( \\frac{-2 \\cdot \\Delta}{V + 2 \\cdot \\mu - \\sqrt{V^{2} + 4 \\cdot V \\cdot \\mu + 4 \\cdot \\Delta^{2} + 4 \\cdot \\mu^{2}}} - 1 \\right)^{2} + \\left( \\frac{2 \\cdot \\Delta}{V + 2 \\cdot \\mu - \\sqrt{V^{2} + 4 \\cdot V \\cdot \\mu + 4 \\cdot \\Delta^{2} + 4 \\cdot \\mu^{2}}} - 1 \\right)^{2} \\right)$\""
      ]
     },
     "metadata": {},
     "output_type": "display_data"
    }
   ],
   "source": [
    "latexify(mp.mpu)"
   ]
  },
  {
   "cell_type": "code",
   "execution_count": 97,
   "id": "7a40230e",
   "metadata": {},
   "outputs": [
    {
     "data": {
      "text/latex": [
       "$\\left|{\\frac{4 Δ^{2}}{\\left(V + 2 μ - \\sqrt{V^{2} + 4 V μ + 4 Δ^{2} + 4 μ^{2}}\\right) \\left(V + 2 μ - \\overline{\\sqrt{V^{2} + 4 V μ + 4 Δ^{2} + 4 μ^{2}}}\\right)} - 1}\\right|$"
      ],
      "text/plain": [
       "|                                           2                                 \n",
       "|                                        4*Δ                                  \n",
       "|-----------------------------------------------------------------------------\n",
       "|                                          /          ________________________\n",
       "|/             __________________________\\ |             _____________________\n",
       "||            /  2              2      2 | |            /  2              2   \n",
       "|\\V + 2*μ - \\/  V  + 4*V*μ + 4*Δ  + 4*μ  /*\\V + 2*μ - \\/  V  + 4*V*μ + 4*Δ  + \n",
       "\n",
       "          |\n",
       "          |\n",
       "------ - 1|\n",
       "_____\\    |\n",
       "_____|    |\n",
       "   2 |    |\n",
       "4*μ  /    |"
      ]
     },
     "metadata": {},
     "output_type": "display_data"
    }
   ],
   "source": [
    "LD = norm(reduced_density_matrix(vo * vo' - ve * ve', (1,), c))"
   ]
  },
  {
   "cell_type": "code",
   "execution_count": 126,
   "id": "e8ffa707",
   "metadata": {},
   "outputs": [
    {
     "data": {
      "text/plain": [
       "QuantumDots.DiagonalizedHamiltonian{Vector{Sym}, BlockDiagonal{Sym, Matrix{Sym}}}(Sym[-t + μ, t + μ, V/2 + μ - sqrt(V^2 + 4*V*μ + 4*Δ^2 + 4*μ^2)/2, V/2 + μ + sqrt(V^2 + 4*V*μ + 4*Δ^2 + 4*μ^2)/2], Sym[μ t 0 0; t μ 0 0; 0 0 0 -Δ; 0 0 -Δ V + 2*μ])"
      ]
     },
     "metadata": {},
     "output_type": "display_data"
    }
   ],
   "source": [
    "diagH = QuantumDots.DiagonalizedHamiltonian(vcat(diag(vals_o),diag(vals_e)),BlockDiagonal([Mo,Me]))"
   ]
  },
  {
   "cell_type": "code",
   "execution_count": 29,
   "id": "e500f0ba",
   "metadata": {},
   "outputs": [
    {
     "data": {
      "text/plain": [
       "16-element Vector{Float64}:\n",
       "  0.0\n",
       "  0.0\n",
       "  0.0\n",
       "  0.0\n",
       "  0.0\n",
       "  0.0\n",
       "  0.0\n",
       "  0.0\n",
       "  0.683539171799759\n",
       "  0.3003347769685026\n",
       " -0.2900394004762402\n",
       "  0.3198021876132616\n",
       "  0.2557644093310968\n",
       " -0.2900394004762404\n",
       "  0.3003347769685026\n",
       "  0.1282094542610353"
      ]
     },
     "metadata": {},
     "output_type": "display_data"
    }
   ],
   "source": [
    "eigblocks = blocks(diagH; full=true)\n",
    "ground_states = map(QuantumDots.ground_state, eigblocks)\n",
    "ϕo = ground_states[1].vector\n",
    "ϕe = ground_states[2].vector"
   ]
  },
  {
   "cell_type": "code",
   "execution_count": 52,
   "id": "5530440a",
   "metadata": {},
   "outputs": [
    {
     "data": {
      "text/plain": [
       "0.05936079886511918"
      ]
     },
     "metadata": {},
     "output_type": "display_data"
    }
   ],
   "source": [
    "δρ = ϕe*ϕe' - ϕo*ϕo'\n",
    "LD = norm(reduced_density_matrix(δρ,(1,),c))"
   ]
  },
  {
   "cell_type": "code",
   "execution_count": 111,
   "id": "9454aed5",
   "metadata": {},
   "outputs": [
    {
     "data": {
      "text/plain": [
       "0.7985341677281106"
      ]
     },
     "metadata": {},
     "output_type": "display_data"
    }
   ],
   "source": [
    "coeffs = majorana_coefficients(ground_states...,c)\n",
    "mpu = majorana_polarization(coeffs..., (1,)).mpu"
   ]
  },
  {
   "cell_type": "code",
   "execution_count": 53,
   "id": "4fa91b6c",
   "metadata": {},
   "outputs": [
    {
     "data": {
      "text/plain": [
       "solve (generic function with 2 methods)"
      ]
     },
     "metadata": {},
     "output_type": "display_data"
    }
   ],
   "source": [
    "function solve(H)\n",
    "    diagH = QuantumDots.diagonalize(H)\n",
    "    eigblocks = blocks(diagH; full=true)\n",
    "    ((Eo,ϕo), (Ee,ϕe)) = map(QuantumDots.ground_state, eigblocks)\n",
    "    ρe = ϕe*ϕe'\n",
    "    ρo = ϕo*ϕo'\n",
    "    δρ = ϕo-ϕe\n",
    "    gap = Eo-Ee\n",
    "    w,z = majorana_coefficients(ϕo, ϕe, c)\n",
    "    R = Tuple(1:div(N,2))\n",
    "    mpu = majorana_polarization(w,z, R).mpu\n",
    "    LD = reduced_density_matrix(δρ, R, c)\n",
    "    return gap, mpu, LD\n",
    "end\n",
    "solve(μ,t,Δ,V) = solve(kitaev_hamiltonian(μ,t,Δ,V))"
   ]
  },
  {
   "cell_type": "code",
   "execution_count": 54,
   "id": "50159072",
   "metadata": {},
   "outputs": [
    {
     "data": {
      "text/plain": [
       "(0.49597691398647026, 0.7324678436633643, [1.048092283813159 0.2603920647636982 -0.20366826500294938 0.5302545115518197; 0.2603920647636982 0.28740508272532744 -0.32773471719152725 0.1112530439384502; -0.20366826500294938 -0.32773471719152725 0.3929888228890849 -0.07508449798197797; 0.5302545115518197 0.1112530439384502 -0.07508449798197797 0.2715138105724287])"
      ]
     },
     "metadata": {},
     "output_type": "display_data"
    }
   ],
   "source": [
    "solve(1.0,1,2,1.0)"
   ]
  },
  {
   "cell_type": "code",
   "execution_count": 55,
   "id": "db814f02",
   "metadata": {},
   "outputs": [
    {
     "data": {
      "text/plain": [
       "cost (generic function with 2 methods)"
      ]
     },
     "metadata": {},
     "output_type": "display_data"
    }
   ],
   "source": [
    "function cost(μ,t) \n",
    "    gap, mpu, LD = solve(μ,t,1.0,.5)\n",
    "    10^3*gap^2 + 1-mpu\n",
    "end\n",
    "cost(args) = cost(args...)"
   ]
  },
  {
   "cell_type": "code",
   "execution_count": 56,
   "id": "558da0f6",
   "metadata": {},
   "outputs": [],
   "source": [
    "using BlackBoxOptim"
   ]
  },
  {
   "cell_type": "code",
   "execution_count": 57,
   "id": "e956c1c0",
   "metadata": {},
   "outputs": [
    {
     "name": "stdout",
     "output_type": "stream",
     "text": [
      "Starting optimization with optimizer DiffEvoOpt{FitPopulation{Float64}, RadiusLimitedSelector, BlackBoxOptim.AdaptiveDiffEvoRandBin{3}, RandomBound{ContinuousRectSearchSpace}}\n",
      "0.00 secs, 0 evals, 0 steps\n"
     ]
    },
    {
     "name": "stdout",
     "output_type": "stream",
     "text": [
      "0.50 secs, 3999 evals, 3886 steps, improv/step: 0.161 (last = 0.1611), fitness=0.000000004\n"
     ]
    },
    {
     "name": "stdout",
     "output_type": "stream",
     "text": [
      "1.00 secs, 8202 evals, 8091 steps, improv/step: 0.161 (last = 0.1605), fitness=0.000000004\n"
     ]
    },
    {
     "name": "stdout",
     "output_type": "stream",
     "text": [
      "\n",
      "Optimization stopped after 10001 steps and 1.23 seconds\n",
      "Termination reason: Max number of steps (10000) reached\n",
      "Steps per second = 8097.98\n",
      "Function evals per second = 8187.85\n",
      "Improvements/step = 0.13760\n",
      "Total function evaluations = 10112\n",
      "\n",
      "\n",
      "Best candidate found: [-0.205806, -0.754626]\n",
      "\n",
      "Fitness: 0.000000004\n",
      "\n"
     ]
    },
    {
     "data": {
      "text/plain": [
       "BlackBoxOptim.OptimizationResults(\"adaptive_de_rand_1_bin_radiuslimited\", \"Max number of steps (10000) reached\", 10001, 1.694598612864e9, 1.2349998950958252, ParamsDictChain[ParamsDictChain[Dict{Symbol, Any}(:RngSeed => 688271, :NumDimensions => 2, :MaxSteps => 10000),Dict{Symbol, Any}()],Dict{Symbol, Any}(:CallbackInterval => -1.0, :TargetFitness => nothing, :TraceMode => :compact, :FitnessScheme => ScalarFitnessScheme{true}(), :MinDeltaFitnessTolerance => 1.0e-50, :NumDimensions => :NotSpecified, :FitnessTolerance => 1.0e-8, :TraceInterval => 0.5, :MaxStepsWithoutProgress => 10000, :MaxSteps => 10000…)], 10112, ScalarFitnessScheme{true}(), BlackBoxOptim.TopListArchiveOutput{Float64, Vector{Float64}}(4.032772005224672e-9, [-0.20580625919641177, -0.754626089690799]), BlackBoxOptim.PopulationOptimizerOutput{FitPopulation{Float64}}(FitPopulation{Float64}([-0.2058064215810058 -0.20580561355895347 … -0.2058072355475354 -0.20580661252628726; -0.7546260754141363 -0.754626209129304 … -0.7546259261520415 -0.7546260390661962], NaN, [4.032772782380789e-9, 4.032772338291579e-9, 4.032772116246974e-9, 4.032772449313882e-9, 4.032772671358487e-9, 4.032772338291579e-9, 4.032772338291579e-9, 4.032772671358487e-9, 4.032772116246974e-9, 4.032772671358487e-9  …  4.032772227269277e-9, 4.032772449313882e-9, 4.032772671358487e-9, 4.032772560336184e-9, 4.032772671358487e-9, 4.032772560336184e-9, 4.032772560336184e-9, 4.032772560336184e-9, 4.032772671358487e-9, 4.032772560336184e-9], 0, BlackBoxOptim.Candidate{Float64}[BlackBoxOptim.Candidate{Float64}([-0.2058064215810058, -0.7546260754141363], 1, 4.032772782380789e-9, BlackBoxOptim.AdaptiveDiffEvoRandBin{3}(BlackBoxOptim.AdaptiveDiffEvoParameters(BlackBoxOptim.BimodalCauchy(Distributions.Cauchy{Float64}(μ=0.65, σ=0.1), Distributions.Cauchy{Float64}(μ=1.0, σ=0.1), 0.5, false, true), BlackBoxOptim.BimodalCauchy(Distributions.Cauchy{Float64}(μ=0.1, σ=0.1), Distributions.Cauchy{Float64}(μ=0.95, σ=0.1), 0.5, false, true), [0.9236660539574152, 0.6195951786458928, 0.6970419932503664, 1.0, 0.7451494190721842, 0.4108761834431972, 1.0, 0.5694304906573258, 1.0, 0.6690662226930147  …  1.0, 0.6282265406754912, 0.9141322590059023, 0.9309998703614298, 0.463194636107679, 1.0, 0.28742014049937353, 1.0, 0.8413675054282103, 0.5493931578824179], [1.0, 0.2194018723666019, 0.9150674143544849, 1.0, 0.5080323255731231, 1.0, 0.8766643601648463, 1.0, 1.0, 0.15122698985288352  …  0.6523900122230166, 0.2717399730016794, 1.0, 0.8032908368403395, 0.11441259147337161, 0.9577041351770877, 0.12235387340264209, 0.9776195019232224, 1.0, 0.31181665520544516])), 0), BlackBoxOptim.Candidate{Float64}([-0.2058088609940981, -0.7546260754141363], 1, 4.032888134553048e-9, BlackBoxOptim.AdaptiveDiffEvoRandBin{3}(BlackBoxOptim.AdaptiveDiffEvoParameters(BlackBoxOptim.BimodalCauchy(Distributions.Cauchy{Float64}(μ=0.65, σ=0.1), Distributions.Cauchy{Float64}(μ=1.0, σ=0.1), 0.5, false, true), BlackBoxOptim.BimodalCauchy(Distributions.Cauchy{Float64}(μ=0.1, σ=0.1), Distributions.Cauchy{Float64}(μ=0.95, σ=0.1), 0.5, false, true), [0.9236660539574152, 0.6195951786458928, 0.6970419932503664, 1.0, 0.7451494190721842, 0.4108761834431972, 1.0, 0.5694304906573258, 1.0, 0.6690662226930147  …  1.0, 0.6282265406754912, 0.9141322590059023, 0.9309998703614298, 0.463194636107679, 1.0, 0.28742014049937353, 1.0, 0.8413675054282103, 0.5493931578824179], [1.0, 0.2194018723666019, 0.9150674143544849, 1.0, 0.5080323255731231, 1.0, 0.8766643601648463, 1.0, 1.0, 0.15122698985288352  …  0.6523900122230166, 0.2717399730016794, 1.0, 0.8032908368403395, 0.11441259147337161, 0.9577041351770877, 0.12235387340264209, 0.9776195019232224, 1.0, 0.31181665520544516])), 0)], Base.Threads.SpinLock(0))))"
      ]
     },
     "metadata": {},
     "output_type": "display_data"
    }
   ],
   "source": [
    "opt = bboptimize(cost; NumDimensions = 2)"
   ]
  },
  {
   "cell_type": "code",
   "execution_count": 102,
   "id": "b02bd180",
   "metadata": {},
   "outputs": [
    {
     "data": {
      "text/plain": [
       "2-element Vector{Float64}:\n",
       "  0.43289240307001087\n",
       " -0.26754221874193773"
      ]
     },
     "metadata": {},
     "output_type": "display_data"
    }
   ],
   "source": [
    "best_candidate(opt)"
   ]
  },
  {
   "cell_type": "markdown",
   "id": "f671f6a7",
   "metadata": {},
   "source": [
    "### <a id='toc1_1_5_'></a>[Transport](#toc0_)"
   ]
  },
  {
   "cell_type": "code",
   "execution_count": 124,
   "id": "e5c798e1",
   "metadata": {},
   "outputs": [
    {
     "data": {
      "text/plain": [
       "PauliSystem (generic function with 1 method)"
      ]
     },
     "metadata": {},
     "output_type": "display_data"
    }
   ],
   "source": [
    "function get_leads(c, T, μ, Γ=1)\n",
    "    N = QuantumDots.nbr_of_fermions(c)\n",
    "    left = QuantumDots.NormalLead(Γ * c[1]'; T, μ=μ[1])\n",
    "    right = QuantumDots.NormalLead(Γ * c[N]'; T, μ=μ[2])\n",
    "    return (; left, right)\n",
    "end\n",
    "PauliSystem(H,leads) = QuantumDots.Pauli()(QuantumDots.OpenSystem(H, leads))"
   ]
  },
  {
   "cell_type": "code",
   "execution_count": 134,
   "id": "6508184e",
   "metadata": {},
   "outputs": [],
   "source": [
    "@syms V1::real V2::real T::real\n",
    "symleads = get_leads(c,T,(V1,V2));"
   ]
  },
  {
   "cell_type": "code",
   "execution_count": 140,
   "id": "c5221826",
   "metadata": {},
   "outputs": [],
   "source": [
    "paulisystem = QuantumDots.Pauli()(QuantumDots.diagonalize(QuantumDots.OpenSystem(diagH, symleads)));"
   ]
  },
  {
   "cell_type": "code",
   "execution_count": 143,
   "id": "3ec376d6",
   "metadata": {},
   "outputs": [],
   "source": [
    "lindbladsystem = QuantumDots.Lindblad()(QuantumDots.diagonalize(QuantumDots.OpenSystem(diagH, symleads)));"
   ]
  },
  {
   "cell_type": "code",
   "execution_count": 147,
   "id": "e0596fed",
   "metadata": {},
   "outputs": [],
   "source": [
    "Matrix(lindbladsystem);"
   ]
  },
  {
   "cell_type": "code",
   "execution_count": 154,
   "id": "31fc154d",
   "metadata": {},
   "outputs": [
    {
     "data": {
      "text/plain": [
       "conductance (generic function with 1 method)"
      ]
     },
     "metadata": {},
     "output_type": "display_data"
    }
   ],
   "source": [
    "function conductance(H,T,V1,V2)\n",
    "    # H = kitaev_hamiltonian(μ,t,Δ,V,T)\n",
    "    leads = get_leads(c,T,(V1,V2))\n",
    "    sys = QuantumDots.Pauli()(QuantumDots.diagonalize(QuantumDots.OpenSystem(H, leads)));\n",
    "    conductance_matrix(sys)\n",
    "end"
   ]
  },
  {
   "cell_type": "code",
   "execution_count": 155,
   "id": "88fbb8e7",
   "metadata": {},
   "outputs": [
    {
     "ename": "MethodError",
     "evalue": "MethodError: no method matching init(::SciMLBase.LinearProblem{Vector{Float64}, true, SciMLOperators.MatrixOperator{Float64, Matrix{Float64}, SciMLOperators.FilterKwargs{typeof(SciMLOperators.DEFAULT_UPDATE_FUNC), Tuple{}}, SciMLOperators.FilterKwargs{typeof(SciMLOperators.DEFAULT_UPDATE_FUNC), Tuple{}}}, Vector{Float64}, SciMLBase.NullParameters, Base.Pairs{Symbol, Union{}, Tuple{}, NamedTuple{(), Tuple{}}}})\n\nClosest candidates are:\n  init(!Matched::SciMLBase.OptimizationProblem, !Matched::Any, !Matched::Any...; kwargs...)\n   @ SciMLBase C:\\Users\\svens\\.julia\\packages\\SciMLBase\\l4PVV\\src\\solve.jl:146\n",
     "output_type": "error",
     "traceback": [
      "MethodError: no method matching init(::SciMLBase.LinearProblem{Vector{Float64}, true, SciMLOperators.MatrixOperator{Float64, Matrix{Float64}, SciMLOperators.FilterKwargs{typeof(SciMLOperators.DEFAULT_UPDATE_FUNC), Tuple{}}, SciMLOperators.FilterKwargs{typeof(SciMLOperators.DEFAULT_UPDATE_FUNC), Tuple{}}}, Vector{Float64}, SciMLBase.NullParameters, Base.Pairs{Symbol, Union{}, Tuple{}, NamedTuple{(), Tuple{}}}})\n",
      "\n",
      "Closest candidates are:\n",
      "  init(!Matched::SciMLBase.OptimizationProblem, !Matched::Any, !Matched::Any...; kwargs...)\n",
      "   @ SciMLBase C:\\Users\\svens\\.julia\\packages\\SciMLBase\\l4PVV\\src\\solve.jl:146\n",
      "\n",
      "\n",
      "Stacktrace:\n",
      " [1] solve(args::SciMLBase.LinearProblem{Vector{Float64}, true, SciMLOperators.MatrixOperator{Float64, Matrix{Float64}, SciMLOperators.FilterKwargs{typeof(SciMLOperators.DEFAULT_UPDATE_FUNC), Tuple{}}, SciMLOperators.FilterKwargs{typeof(SciMLOperators.DEFAULT_UPDATE_FUNC), Tuple{}}}, Vector{Float64}, SciMLBase.NullParameters, Base.Pairs{Symbol, Union{}, Tuple{}, NamedTuple{(), Tuple{}}}}; kwargs::Base.Pairs{Symbol, Union{}, Tuple{}, NamedTuple{(), Tuple{}}})\n",
      "   @ CommonSolve C:\\Users\\svens\\.julia\\packages\\CommonSolve\\JfpfI\\src\\CommonSolve.jl:23\n",
      " [2] solve(args::SciMLBase.LinearProblem{Vector{Float64}, true, SciMLOperators.MatrixOperator{Float64, Matrix{Float64}, SciMLOperators.FilterKwargs{typeof(SciMLOperators.DEFAULT_UPDATE_FUNC), Tuple{}}, SciMLOperators.FilterKwargs{typeof(SciMLOperators.DEFAULT_UPDATE_FUNC), Tuple{}}}, Vector{Float64}, SciMLBase.NullParameters, Base.Pairs{Symbol, Union{}, Tuple{}, NamedTuple{(), Tuple{}}}})\n",
      "   @ CommonSolve C:\\Users\\svens\\.julia\\packages\\CommonSolve\\JfpfI\\src\\CommonSolve.jl:23\n",
      " [3] conductance_matrix(::QuantumDots.PauliSystem{Matrix{Float64}, NamedTuple{(:in, :out), Tuple{Matrix{Float64}, Matrix{Float64}}}, NamedTuple{(:in, :out), Tuple{Vector{Float64}, Vector{Float64}}}, NamedTuple{(:left, :right), Tuple{QuantumDots.PauliDissipator{QuantumDots.NormalLead{Int64, Int64, Vector{Matrix{Float64}}, Vector{Matrix{Float64}}}, Matrix{Float64}, Vector{Float64}, Matrix{Float64}, Vector{Float64}}, QuantumDots.PauliDissipator{QuantumDots.NormalLead{Int64, Int64, Vector{Matrix{Float64}}, Vector{Matrix{Float64}}}, Matrix{Float64}, Vector{Float64}, Matrix{Float64}, Vector{Float64}}}}})\n",
      "   @ QuantumDots C:\\Users\\svens\\.julia\\dev\\QuantumDots\\src\\rate_equation.jl:128\n",
      " [4] conductance(H::Hermitian{Float64, SparseArrays.SparseMatrixCSC{Float64, Int64}}, T::Int64, V1::Int64, V2::Int64)\n",
      "   @ Main c:\\Users\\svens\\.julia\\dev\\QuantumDots\\examples\\pmm_notebook.jl.ipynb:5\n",
      " [5] top-level scope\n",
      "   @ c:\\Users\\svens\\.julia\\dev\\QuantumDots\\examples\\pmm_notebook.jl.ipynb:1"
     ]
    }
   ],
   "source": [
    "conductance(ham(1.0,1,1,1), 1,0,0)"
   ]
  },
  {
   "cell_type": "code",
   "execution_count": 136,
   "id": "7d152e97",
   "metadata": {},
   "outputs": [
    {
     "ename": "MethodError",
     "evalue": "MethodError: no method matching init(::SciMLBase.LinearProblem{Vector{Sym}, true, SciMLOperators.MatrixOperator{Sym, Matrix{Sym}, SciMLOperators.FilterKwargs{typeof(SciMLOperators.DEFAULT_UPDATE_FUNC), Tuple{}}, SciMLOperators.FilterKwargs{typeof(SciMLOperators.DEFAULT_UPDATE_FUNC), Tuple{}}}, Vector{Sym}, SciMLBase.NullParameters, Base.Pairs{Symbol, Union{}, Tuple{}, NamedTuple{(), Tuple{}}}})\n\nClosest candidates are:\n  init(!Matched::SciMLBase.OptimizationProblem, !Matched::Any, !Matched::Any...; kwargs...)\n   @ SciMLBase C:\\Users\\svens\\.julia\\packages\\SciMLBase\\l4PVV\\src\\solve.jl:146\n",
     "output_type": "error",
     "traceback": [
      "MethodError: no method matching init(::SciMLBase.LinearProblem{Vector{Sym}, true, SciMLOperators.MatrixOperator{Sym, Matrix{Sym}, SciMLOperators.FilterKwargs{typeof(SciMLOperators.DEFAULT_UPDATE_FUNC), Tuple{}}, SciMLOperators.FilterKwargs{typeof(SciMLOperators.DEFAULT_UPDATE_FUNC), Tuple{}}}, Vector{Sym}, SciMLBase.NullParameters, Base.Pairs{Symbol, Union{}, Tuple{}, NamedTuple{(), Tuple{}}}})\n",
      "\n",
      "Closest candidates are:\n",
      "  init(!Matched::SciMLBase.OptimizationProblem, !Matched::Any, !Matched::Any...; kwargs...)\n",
      "   @ SciMLBase C:\\Users\\svens\\.julia\\packages\\SciMLBase\\l4PVV\\src\\solve.jl:146\n",
      "\n",
      "\n",
      "Stacktrace:\n",
      " [1] solve(args::SciMLBase.LinearProblem{Vector{Sym}, true, SciMLOperators.MatrixOperator{Sym, Matrix{Sym}, SciMLOperators.FilterKwargs{typeof(SciMLOperators.DEFAULT_UPDATE_FUNC), Tuple{}}, SciMLOperators.FilterKwargs{typeof(SciMLOperators.DEFAULT_UPDATE_FUNC), Tuple{}}}, Vector{Sym}, SciMLBase.NullParameters, Base.Pairs{Symbol, Union{}, Tuple{}, NamedTuple{(), Tuple{}}}}; kwargs::Base.Pairs{Symbol, Union{}, Tuple{}, NamedTuple{(), Tuple{}}})\n",
      "   @ CommonSolve C:\\Users\\svens\\.julia\\packages\\CommonSolve\\JfpfI\\src\\CommonSolve.jl:23\n",
      " [2] solve(args::SciMLBase.LinearProblem{Vector{Sym}, true, SciMLOperators.MatrixOperator{Sym, Matrix{Sym}, SciMLOperators.FilterKwargs{typeof(SciMLOperators.DEFAULT_UPDATE_FUNC), Tuple{}}, SciMLOperators.FilterKwargs{typeof(SciMLOperators.DEFAULT_UPDATE_FUNC), Tuple{}}}, Vector{Sym}, SciMLBase.NullParameters, Base.Pairs{Symbol, Union{}, Tuple{}, NamedTuple{(), Tuple{}}}})\n",
      "   @ CommonSolve C:\\Users\\svens\\.julia\\packages\\CommonSolve\\JfpfI\\src\\CommonSolve.jl:23\n",
      " [3] conductance_matrix(::QuantumDots.PauliSystem{Matrix{Sym}, NamedTuple{(:in, :out), Tuple{Matrix{Sym}, Matrix{Sym}}}, NamedTuple{(:in, :out), Tuple{Vector{Sym}, Vector{Sym}}}, NamedTuple{(:left, :right), Tuple{QuantumDots.PauliDissipator{QuantumDots.NormalLead{Sym, Sym, Vector{Matrix{Sym}}, Vector{Matrix{Sym}}}, Matrix{Sym}, Vector{Sym}, Matrix{Sym}, Vector{Sym}}, QuantumDots.PauliDissipator{QuantumDots.NormalLead{Sym, Sym, Vector{Matrix{Sym}}, Vector{Matrix{Sym}}}, Matrix{Sym}, Vector{Sym}, Matrix{Sym}, Vector{Sym}}}}})\n",
      "   @ QuantumDots C:\\Users\\svens\\.julia\\dev\\QuantumDots\\src\\rate_equation.jl:128\n",
      " [4] top-level scope\n",
      "   @ c:\\Users\\svens\\.julia\\dev\\QuantumDots\\examples\\pmm_notebook.jl.ipynb:1"
     ]
    }
   ],
   "source": [
    "conductance_matrix(system)"
   ]
  },
  {
   "cell_type": "code",
   "execution_count": 125,
   "id": "4d0bf286",
   "metadata": {},
   "outputs": [
    {
     "ename": "MethodError",
     "evalue": "MethodError: no method matching eigen!(::Hermitian{Sym, Matrix{Sym}})\n\nClosest candidates are:\n  eigen!(::Union{Hermitian{T, var\"#s969\"}, Hermitian{Complex{T}, var\"#s969\"}, Symmetric{T, var\"#s969\"}} where var\"#s969\"<:(StridedMatrix{T} where T), !Matched::AbstractMatrix{T}; sortby) where T<:Number\n   @ LinearAlgebra C:\\Users\\svens\\.julia\\juliaup\\julia-1.9.3+0.x64.w64.mingw32\\share\\julia\\stdlib\\v1.9\\LinearAlgebra\\src\\symmetriceigen.jl:167\n  eigen!(!Matched::StridedMatrix{T}; permute, scale, sortby) where T<:Union{Float32, Float64}\n   @ LinearAlgebra C:\\Users\\svens\\.julia\\juliaup\\julia-1.9.3+0.x64.w64.mingw32\\share\\julia\\stdlib\\v1.9\\LinearAlgebra\\src\\eigen.jl:149\n  eigen!(!Matched::StridedMatrix{T}; permute, scale, sortby) where T<:Union{ComplexF64, ComplexF32}\n   @ LinearAlgebra C:\\Users\\svens\\.julia\\juliaup\\julia-1.9.3+0.x64.w64.mingw32\\share\\julia\\stdlib\\v1.9\\LinearAlgebra\\src\\eigen.jl:172\n  ...\n",
     "output_type": "error",
     "traceback": [
      "MethodError: no method matching eigen!(::Hermitian{Sym, Matrix{Sym}})\n",
      "\n",
      "Closest candidates are:\n",
      "  eigen!(::Union{Hermitian{T, var\"#s969\"}, Hermitian{Complex{T}, var\"#s969\"}, Symmetric{T, var\"#s969\"}} where var\"#s969\"<:(StridedMatrix{T} where T), !Matched::AbstractMatrix{T}; sortby) where T<:Number\n",
      "   @ LinearAlgebra C:\\Users\\svens\\.julia\\juliaup\\julia-1.9.3+0.x64.w64.mingw32\\share\\julia\\stdlib\\v1.9\\LinearAlgebra\\src\\symmetriceigen.jl:167\n",
      "  eigen!(!Matched::StridedMatrix{T}; permute, scale, sortby) where T<:Union{Float32, Float64}\n",
      "   @ LinearAlgebra C:\\Users\\svens\\.julia\\juliaup\\julia-1.9.3+0.x64.w64.mingw32\\share\\julia\\stdlib\\v1.9\\LinearAlgebra\\src\\eigen.jl:149\n",
      "  eigen!(!Matched::StridedMatrix{T}; permute, scale, sortby) where T<:Union{ComplexF64, ComplexF32}\n",
      "   @ LinearAlgebra C:\\Users\\svens\\.julia\\juliaup\\julia-1.9.3+0.x64.w64.mingw32\\share\\julia\\stdlib\\v1.9\\LinearAlgebra\\src\\eigen.jl:172\n",
      "  ...\n",
      "\n",
      "\n",
      "Stacktrace:\n",
      "  [1] (::QuantumDots.var\"#259#262\"{Base.Pairs{Symbol, Union{}, Tuple{}, NamedTuple{(), Tuple{}}}, Tuple{}})(b::Hermitian{Sym, Matrix{Sym}})\n",
      "    @ QuantumDots .\\none:0\n",
      "  [2] iterate\n",
      "    @ .\\generator.jl:47 [inlined]\n",
      "  [3] collect\n",
      "    @ .\\array.jl:782 [inlined]\n",
      "  [4] #eigen!_blockwise#258\n",
      "    @ C:\\Users\\svens\\.julia\\dev\\QuantumDots\\src\\diagonalization.jl:35 [inlined]\n",
      "  [5] eigen!_blockwise\n",
      "    @ C:\\Users\\svens\\.julia\\dev\\QuantumDots\\src\\diagonalization.jl:34 [inlined]\n",
      "  [6] diagonalize!(m::BlockDiagonal{Sym, Hermitian{Sym, Matrix{Sym}}})\n",
      "    @ QuantumDots C:\\Users\\svens\\.julia\\dev\\QuantumDots\\src\\diagonalization.jl:26\n",
      "  [7] diagonalize!(m::BlockDiagonal{Sym, Hermitian{Sym, SparseArrays.SparseMatrixCSC{Sym, Int64}}})\n",
      "    @ QuantumDots C:\\Users\\svens\\.julia\\dev\\QuantumDots\\src\\diagonalization.jl:32\n",
      "  [8] diagonalize\n",
      "    @ C:\\Users\\svens\\.julia\\dev\\QuantumDots\\src\\diagonalization.jl:31 [inlined]\n",
      "  [9] diagonalize_hamiltonian(system::QuantumDots.OpenSystem{BlockDiagonal{Sym, Hermitian{Sym, SparseArrays.SparseMatrixCSC{Sym, Int64}}}, NamedTuple{(:left, :right), Tuple{QuantumDots.NormalLead{Int64, Int64, Vector{SparseArrays.SparseMatrixCSC{Int64, Int64}}, Vector{Adjoint{Int64, SparseArrays.SparseMatrixCSC{Int64, Int64}}}}, QuantumDots.NormalLead{Int64, Int64, Vector{SparseArrays.SparseMatrixCSC{Int64, Int64}}, Vector{Adjoint{Int64, SparseArrays.SparseMatrixCSC{Int64, Int64}}}}}}, Nothing, Nothing})\n",
      "    @ QuantumDots C:\\Users\\svens\\.julia\\dev\\QuantumDots\\src\\opensystems.jl:113\n",
      " [10] diagonalize(system::QuantumDots.OpenSystem{BlockDiagonal{Sym, Hermitian{Sym, SparseArrays.SparseMatrixCSC{Sym, Int64}}}, NamedTuple{(:left, :right), Tuple{QuantumDots.NormalLead{Int64, Int64, Vector{SparseArrays.SparseMatrixCSC{Int64, Int64}}, Vector{Adjoint{Int64, SparseArrays.SparseMatrixCSC{Int64, Int64}}}}, QuantumDots.NormalLead{Int64, Int64, Vector{SparseArrays.SparseMatrixCSC{Int64, Int64}}, Vector{Adjoint{Int64, SparseArrays.SparseMatrixCSC{Int64, Int64}}}}}}, Nothing, Nothing}; dE::Float64)\n",
      "    @ QuantumDots C:\\Users\\svens\\.julia\\dev\\QuantumDots\\src\\opensystems.jl:120\n",
      " [11] diagonalize\n",
      "    @ C:\\Users\\svens\\.julia\\dev\\QuantumDots\\src\\opensystems.jl:119 [inlined]\n",
      " [12] (::QuantumDots.Pauli)(H::QuantumDots.OpenSystem{BlockDiagonal{Sym, Hermitian{Sym, SparseArrays.SparseMatrixCSC{Sym, Int64}}}, NamedTuple{(:left, :right), Tuple{QuantumDots.NormalLead{Int64, Int64, Vector{SparseArrays.SparseMatrixCSC{Int64, Int64}}, Vector{Adjoint{Int64, SparseArrays.SparseMatrixCSC{Int64, Int64}}}}, QuantumDots.NormalLead{Int64, Int64, Vector{SparseArrays.SparseMatrixCSC{Int64, Int64}}, Vector{Adjoint{Int64, SparseArrays.SparseMatrixCSC{Int64, Int64}}}}}}, Nothing, Nothing})\n",
      "    @ QuantumDots C:\\Users\\svens\\.julia\\dev\\QuantumDots\\src\\rate_equation.jl:4\n",
      " [13] PauliSystem(H::BlockDiagonal{Sym, Hermitian{Sym, SparseArrays.SparseMatrixCSC{Sym, Int64}}}, leads::NamedTuple{(:left, :right), Tuple{QuantumDots.NormalLead{Int64, Int64, Vector{SparseArrays.SparseMatrixCSC{Int64, Int64}}, Vector{Adjoint{Int64, SparseArrays.SparseMatrixCSC{Int64, Int64}}}}, QuantumDots.NormalLead{Int64, Int64, Vector{SparseArrays.SparseMatrixCSC{Int64, Int64}}, Vector{Adjoint{Int64, SparseArrays.SparseMatrixCSC{Int64, Int64}}}}}})\n",
      "    @ Main c:\\Users\\svens\\.julia\\dev\\QuantumDots\\examples\\pmm_notebook.jl.ipynb:7\n",
      " [14] top-level scope\n",
      "    @ c:\\Users\\svens\\.julia\\dev\\QuantumDots\\examples\\pmm_notebook.jl.ipynb:1"
     ]
    }
   ],
   "source": [
    "PauliSystem(H,leads)"
   ]
  },
  {
   "cell_type": "code",
   "execution_count": null,
   "id": "06ffa412",
   "metadata": {},
   "outputs": [],
   "source": []
  }
 ],
 "metadata": {
  "kernelspec": {
   "display_name": "Julia 1.9.3",
   "language": "julia",
   "name": "julia-1.9"
  },
  "language_info": {
   "file_extension": ".jl",
   "mimetype": "application/julia",
   "name": "julia",
   "version": "1.9.3"
  }
 },
 "nbformat": 4,
 "nbformat_minor": 5
}
