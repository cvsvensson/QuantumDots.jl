{
 "cells": [
  {
   "cell_type": "code",
   "execution_count": 62,
   "id": "05132d69",
   "metadata": {},
   "outputs": [
    {
     "name": "stderr",
     "output_type": "stream",
     "text": [
      "\u001b[32m\u001b[1m  Activating\u001b[22m\u001b[39m project at `C:\\Users\\vi2823sv\\.julia\\dev\\QuantumDots\\examples`\n"
     ]
    },
    {
     "data": {
      "text/plain": [
       "2"
      ]
     },
     "execution_count": 62,
     "metadata": {},
     "output_type": "execute_result"
    }
   ],
   "source": [
    "using Pkg\n",
    "Pkg.activate(pwd())\n",
    "using QuantumDots\n",
    "using LinearAlgebra\n",
    "using Plots\n",
    "using Symbolics\n",
    "using Latexify\n",
    "using QuantumDots.BlockDiagonals\n",
    "const N = 2"
   ]
  },
  {
   "cell_type": "code",
   "execution_count": 63,
   "id": "f6adec96",
   "metadata": {},
   "outputs": [
    {
     "data": {
      "text/plain": [
       "kitaev_hamiltonian (generic function with 1 method)"
      ]
     },
     "execution_count": 63,
     "metadata": {},
     "output_type": "execute_result"
    }
   ],
   "source": [
    "c = FermionBasis(1:N; qn = QuantumDots.parity)\n",
    "kitaev_hamiltonian(c,μ,t,Δ,V) = blockdiagonal(sum(μ*c[i]'c[i] for i in 1:N) + \n",
    "sum(t*c[i+1]'*c[i] + Δ*c[i+1]*c[i] + QuantumDots.hc + V*c[i]'c[i]*c[i+1]'*c[i+1] for i in 1:N-1),c)"
   ]
  },
  {
   "cell_type": "code",
   "execution_count": 64,
   "id": "074d04a4",
   "metadata": {},
   "outputs": [
    {
     "data": {
      "text/latex": [
       "$$ \\begin{equation}\n",
       "\\left[\n",
       "\\begin{array}{cccc}\n",
       "\\mu & t & 0 & 0 \\\\\n",
       "t & \\mu & 0 & 0 \\\\\n",
       "0 & 0 & 0 &  - \\Delta \\\\\n",
       "0 & 0 &  - \\Delta & V + 2 \\mu \\\\\n",
       "\\end{array}\n",
       "\\right]\n",
       "\\end{equation}\n",
       " $$"
      ],
      "text/plain": [
       "4×4 BlockDiagonal{Num, SparseArrays.SparseMatrixCSC{Num, Int64}}:\n",
       " μ  t   0       0\n",
       " t  μ   0       0\n",
       " 0  0   0      -Δ\n",
       " 0  0  -Δ  V + 2μ"
      ]
     },
     "execution_count": 64,
     "metadata": {},
     "output_type": "execute_result"
    }
   ],
   "source": [
    "@variables μ t Δ V\n",
    "H = kitaev_hamiltonian(c, μ, t, Δ, V)"
   ]
  },
  {
   "cell_type": "code",
   "execution_count": 87,
   "id": "e8ffa707",
   "metadata": {},
   "outputs": [
    {
     "data": {
      "text/latex": [
       "$$ \\begin{equation}\n",
       "\\left[\n",
       "\\begin{array}{c}\n",
       "\\mu \\\\\n",
       "t \\\\\n",
       "\\Delta \\\\\n",
       "V \\\\\n",
       "\\end{array}\n",
       "\\right]\n",
       "\\end{equation}\n",
       " $$"
      ],
      "text/plain": [
       "4-element Vector{Num}:\n",
       " μ\n",
       " t\n",
       " Δ\n",
       " V"
      ]
     },
     "execution_count": 87,
     "metadata": {},
     "output_type": "execute_result"
    }
   ],
   "source": [
    "@variables μ t Δ V"
   ]
  },
  {
   "cell_type": "code",
   "execution_count": 65,
   "id": "0a775ae2",
   "metadata": {},
   "outputs": [
    {
     "name": "stdout",
     "output_type": "stream",
     "text": [
      "\\begin{equation}\n",
      "\\left[\n",
      "\\begin{array}{cccc}\n",
      "\\mu & t & 0 & 0 \\\\\n",
      "t & \\mu & 0 & 0 \\\\\n",
      "0 & 0 & 0 &  - \\Delta \\\\\n",
      "0 & 0 &  - \\Delta & V + 2 \\mu \\\\\n",
      "\\end{array}\n",
      "\\right]\n",
      "\\end{equation}\n"
     ]
    }
   ],
   "source": [
    "print(latexify(H))"
   ]
  },
  {
   "cell_type": "code",
   "execution_count": 50,
   "id": "9454aed5",
   "metadata": {},
   "outputs": [
    {
     "data": {
      "text/plain": [
       "BlockDiagonals.BlockDiagonal{Num, SparseArrays.SparseMatrixCSC{Num, Int64}}"
      ]
     },
     "execution_count": 50,
     "metadata": {},
     "output_type": "execute_result"
    }
   ],
   "source": []
  },
  {
   "cell_type": "code",
   "execution_count": 66,
   "id": "4fa91b6c",
   "metadata": {},
   "outputs": [
    {
     "data": {
      "text/plain": [
       "QuantumDots.DiagonalizedHamiltonian{Vector{Float64}, BlockDiagonal{Float64, Matrix{Float64}}}([-1.0, 3.0, -2.162277660168379, 4.16227766016838], [-0.7071067811865475 0.7071067811865475 0.0 0.0; 0.7071067811865475 0.7071067811865475 0.0 0.0; 0.0 0.0 -0.8112421851755609 -0.584710284663765; 0.0 0.0 -0.584710284663765 0.8112421851755609])"
      ]
     },
     "execution_count": 66,
     "metadata": {},
     "output_type": "execute_result"
    }
   ],
   "source": [
    "diagH = QuantumDots.diagonalize(kitaev_hamiltonian(c,1.0,2,3,0))"
   ]
  },
  {
   "cell_type": "code",
   "execution_count": 82,
   "id": "db814f02",
   "metadata": {},
   "outputs": [
    {
     "data": {
      "text/plain": [
       "2-element Vector{Vector{Float64}}:\n",
       " [-0.7071067811865475, 0.7071067811865475, 0.0, 0.0]\n",
       " [0.0, 0.0, -0.8112421851755609, -0.584710284663765]"
      ]
     },
     "execution_count": 82,
     "metadata": {},
     "output_type": "execute_result"
    }
   ],
   "source": [
    "ground_states = [block.vectors[:,1] for block in blocks(diagH; full=true)]"
   ]
  },
  {
   "cell_type": "code",
   "execution_count": 84,
   "id": "558da0f6",
   "metadata": {},
   "outputs": [
    {
     "data": {
      "text/plain": [
       "4-element Vector{Float64}:\n",
       "  0.0\n",
       "  0.0\n",
       " -0.8112421851755609\n",
       " -0.584710284663765"
      ]
     },
     "execution_count": 84,
     "metadata": {},
     "output_type": "execute_result"
    }
   ],
   "source": [
    "ground_states[2]"
   ]
  },
  {
   "cell_type": "code",
   "execution_count": 85,
   "id": "e956c1c0",
   "metadata": {},
   "outputs": [
    {
     "data": {
      "text/plain": [
       "1"
      ]
     },
     "execution_count": 85,
     "metadata": {},
     "output_type": "execute_result"
    }
   ],
   "source": [
    "function majorana_coeffs(ϕe,ϕo)"
   ]
  },
  {
   "cell_type": "code",
   "execution_count": null,
   "id": "9dc12883",
   "metadata": {},
   "outputs": [],
   "source": []
  }
 ],
 "metadata": {
  "kernelspec": {
   "display_name": "Julia 1.9.3",
   "language": "julia",
   "name": "julia-1.9"
  },
  "language_info": {
   "file_extension": ".jl",
   "mimetype": "application/julia",
   "name": "julia",
   "version": "1.9.3"
  }
 },
 "nbformat": 4,
 "nbformat_minor": 5
}
