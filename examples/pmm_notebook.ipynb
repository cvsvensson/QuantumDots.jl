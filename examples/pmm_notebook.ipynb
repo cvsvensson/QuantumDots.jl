{
 "cells": [
  {
   "cell_type": "code",
   "execution_count": 1,
   "id": "05132d69",
   "metadata": {},
   "outputs": [
    {
     "name": "stderr",
     "output_type": "stream",
     "text": [
      "\u001b[32m\u001b[1m  Activating\u001b[22m\u001b[39m project at `c:\\Users\\svens\\.julia\\dev\\QuantumDots\\examples`\n"
     ]
    }
   ],
   "source": [
    "using Pkg\n",
    "#Pkg.develop(\"QuantumDots\")\n",
    "Pkg.activate(pwd())\n",
    "Pkg.instantiate()\n",
    "using QuantumDots, QuantumDots.BlockDiagonals, LinearAlgebra\n",
    "using Plots\n",
    "using Latexify\n",
    "using LinearSolve # Solving for stationary state\n",
    "import SymPy # For analytic solutions\n",
    "import Symbolics"
   ]
  },
  {
   "cell_type": "markdown",
   "id": "9507406a",
   "metadata": {},
   "source": [
    "**Table of contents**<a id='toc0_'></a>    \n",
    "- [Intro to QuantumDots.jl](#toc1_)    \n",
    "    - [Defining a basis](#toc1_1_1_)    \n",
    "    - [Kitaev chain hamiltonian](#toc1_1_2_)    \n",
    "      - [Diagonalizing the Hamiltonian](#toc1_1_2_1_)    \n",
    "      - [Majorana quality measures](#toc1_1_2_2_)    \n",
    "      - [Using SymPy for analytical solutions](#toc1_1_2_3_)    \n",
    "    - [Optimizing for the sweet spot](#toc1_1_3_)    \n",
    "    - [Transport](#toc1_1_4_)    \n",
    "\n",
    "<!-- vscode-jupyter-toc-config\n",
    "\tnumbering=false\n",
    "\tanchor=true\n",
    "\tflat=false\n",
    "\tminLevel=1\n",
    "\tmaxLevel=6\n",
    "\t/vscode-jupyter-toc-config -->\n",
    "<!-- THIS CELL WILL BE REPLACED ON TOC UPDATE. DO NOT WRITE YOUR TEXT IN THIS CELL -->"
   ]
  },
  {
   "cell_type": "markdown",
   "id": "4d4cb9f6",
   "metadata": {},
   "source": [
    "# <a id='toc1_'></a>[Intro to QuantumDots.jl](#toc0_)"
   ]
  },
  {
   "cell_type": "markdown",
   "id": "3bda62e7",
   "metadata": {},
   "source": [
    "### <a id='toc1_1_1_'></a>[Defining a basis](#toc0_)\n",
    "To specify a basis, define the indices and, optionally, a conserved quantum number\n"
   ]
  },
  {
   "cell_type": "code",
   "execution_count": 2,
   "id": "97670e10",
   "metadata": {},
   "outputs": [
    {
     "data": {
      "text/plain": [
       "FermionBasis{4,Tuple{Int64, Symbol},SparseArrays.SparseMatrixCSC{Int64, Int64},QuantumDots.AbelianFockSymmetry{Vector{Int64}, Dictionaries.Dictionary{Int64, Int64}, Int64, typeof(QuantumDots.fermionnumber)}}:\n",
       "keys = {(1, :↑), (2, :↑), (1, :↓), (2, :↓)}"
      ]
     },
     "metadata": {},
     "output_type": "display_data"
    }
   ],
   "source": [
    "N = 2\n",
    "d = FermionBasis(1:N, (:↑, :↓); qn=QuantumDots.fermionnumber)"
   ]
  },
  {
   "cell_type": "markdown",
   "id": "a8117c72",
   "metadata": {},
   "source": [
    "The basis allows easy access to the fermionic operators in the many body basis, as well as dictionaries that define how the basis is ordered"
   ]
  },
  {
   "cell_type": "code",
   "execution_count": 3,
   "id": "fd9de6f3",
   "metadata": {},
   "outputs": [
    {
     "data": {
      "text/plain": [
       "16×16 SparseArrays.SparseMatrixCSC{Int64, Int64} with 8 stored entries:\n",
       "⎡⠈⠀⠠⡀⠀⠀⠀⠀⎤\n",
       "⎢⠀⠀⠀⠀⠁⢀⠀⠀⎥\n",
       "⎢⠀⠀⠀⠀⠀⠀⠢⠀⎥\n",
       "⎣⠀⠀⠀⠀⠀⠀⠀⠠⎦"
      ]
     },
     "metadata": {},
     "output_type": "display_data"
    }
   ],
   "source": [
    "d[1,:↑] #is a SparseArray representation of the annihilation operator"
   ]
  },
  {
   "cell_type": "code",
   "execution_count": 4,
   "id": "c20141c0",
   "metadata": {},
   "outputs": [
    {
     "data": {
      "text/plain": [
       "16×16 Matrix{Int64}:\n",
       " 0  0  0  0  0  0  0  0  0  0  0  0  0  0  0  0\n",
       " 0  0  0  0  0  0  0  0  0  0  0  0  0  0  0  0\n",
       " 0  0  0  0  0  0  0  0  0  0  0  0  0  0  0  0\n",
       " 0  0  0  0  0  0  0  0  0  0  0  0  0  0  0  0\n",
       " 1  0  0  0  0  0  0  0  0  0  0  0  0  0  0  0\n",
       " 0  0  0  0  0  0  0  0  0  0  0  0  0  0  0  0\n",
       " 0  0  0  0  0  0  0  0  0  0  0  0  0  0  0  0\n",
       " 0  0  0  0  0  0  0  0  0  0  0  0  0  0  0  0\n",
       " 0  1  0  0  0  0  0  0  0  0  0  0  0  0  0  0\n",
       " 0  0  1  0  0  0  0  0  0  0  0  0  0  0  0  0\n",
       " 0  0  0  1  0  0  0  0  0  0  0  0  0  0  0  0\n",
       " 0  0  0  0  0  0  0  0  0  0  0  0  0  0  0  0\n",
       " 0  0  0  0  0  1  0  0  0  0  0  0  0  0  0  0\n",
       " 0  0  0  0  0  0  1  0  0  0  0  0  0  0  0  0\n",
       " 0  0  0  0  0  0  0  1  0  0  0  0  0  0  0  0\n",
       " 0  0  0  0  0  0  0  0  0  0  0  1  0  0  0  0"
      ]
     },
     "metadata": {},
     "output_type": "display_data"
    }
   ],
   "source": [
    "d[N,:↓]' |> Matrix # Creation operator. ' is hermitian conjugate. Use Matrix to convert to dense matrix."
   ]
  },
  {
   "cell_type": "code",
   "execution_count": 5,
   "id": "7590a6bb",
   "metadata": {},
   "outputs": [
    {
     "data": {
      "text/plain": [
       "16×16 SparseArrays.SparseMatrixCSC{Int64, Int64} with 8 stored entries:\n",
       "⎡⠐⠀⠀⠀⠀⠀⠀⠀⎤\n",
       "⎢⠀⠀⠐⠄⠀⠀⠀⠀⎥\n",
       "⎢⠀⠀⠀⠀⠁⢀⠀⠀⎥\n",
       "⎣⠀⠀⠀⠀⠀⠀⠑⢀⎦"
      ]
     },
     "metadata": {},
     "output_type": "display_data"
    }
   ],
   "source": [
    "d[1,:↑]'d[1,:↑] # Number operator "
   ]
  },
  {
   "cell_type": "code",
   "execution_count": 6,
   "id": "8b25fe60",
   "metadata": {},
   "outputs": [
    {
     "data": {
      "text/plain": [
       "1×1 SparseArrays.SparseMatrixCSC{Int64, Int64} with 0 stored entries:\n",
       " ⋅"
      ]
     },
     "metadata": {},
     "output_type": "display_data"
    },
    {
     "data": {
      "text/plain": [
       "4×4 SparseArrays.SparseMatrixCSC{Int64, Int64} with 4 stored entries:\n",
       " 1  ⋅  ⋅  ⋅\n",
       " ⋅  1  ⋅  ⋅\n",
       " ⋅  ⋅  1  ⋅\n",
       " ⋅  ⋅  ⋅  1"
      ]
     },
     "metadata": {},
     "output_type": "display_data"
    },
    {
     "data": {
      "text/plain": [
       "6×6 SparseArrays.SparseMatrixCSC{Int64, Int64} with 6 stored entries:\n",
       " 2  ⋅  ⋅  ⋅  ⋅  ⋅\n",
       " ⋅  2  ⋅  ⋅  ⋅  ⋅\n",
       " ⋅  ⋅  2  ⋅  ⋅  ⋅\n",
       " ⋅  ⋅  ⋅  2  ⋅  ⋅\n",
       " ⋅  ⋅  ⋅  ⋅  2  ⋅\n",
       " ⋅  ⋅  ⋅  ⋅  ⋅  2"
      ]
     },
     "metadata": {},
     "output_type": "display_data"
    },
    {
     "data": {
      "text/plain": [
       "4×4 SparseArrays.SparseMatrixCSC{Int64, Int64} with 4 stored entries:\n",
       " 3  ⋅  ⋅  ⋅\n",
       " ⋅  3  ⋅  ⋅\n",
       " ⋅  ⋅  3  ⋅\n",
       " ⋅  ⋅  ⋅  3"
      ]
     },
     "metadata": {},
     "output_type": "display_data"
    },
    {
     "data": {
      "text/plain": [
       "1×1 SparseArrays.SparseMatrixCSC{Int64, Int64} with 1 stored entry:\n",
       " 4"
      ]
     },
     "metadata": {},
     "output_type": "display_data"
    }
   ],
   "source": [
    "number_operator = sum(f -> f'f, d)\n",
    "blockdiagonal(number_operator, d) |> blocks .|> display; # Blocks of number operator"
   ]
  },
  {
   "cell_type": "code",
   "execution_count": 7,
   "id": "f5dbb39e",
   "metadata": {},
   "outputs": [
    {
     "data": {
      "text/plain": [
       "5-element Dictionaries.Dictionary{Int64, Vector{Int64}}\n",
       " 0 │ [0]\n",
       " 1 │ [1, 2, 4, 8]\n",
       " 2 │ [3, 5, 6, 9, 10, 12]\n",
       " 3 │ [7, 11, 13, 14]\n",
       " 4 │ [15]"
      ]
     },
     "metadata": {},
     "output_type": "display_data"
    }
   ],
   "source": [
    "d.symmetry.qntofockstates"
   ]
  },
  {
   "cell_type": "code",
   "execution_count": 8,
   "id": "9d3d42e3",
   "metadata": {},
   "outputs": [
    {
     "data": {
      "text/plain": [
       "16-element Vector{Int64}:\n",
       "  0\n",
       "  1\n",
       "  2\n",
       "  4\n",
       "  8\n",
       "  3\n",
       "  5\n",
       "  6\n",
       "  9\n",
       " 10\n",
       " 12\n",
       "  7\n",
       " 11\n",
       " 13\n",
       " 14\n",
       " 15"
      ]
     },
     "metadata": {},
     "output_type": "display_data"
    }
   ],
   "source": [
    "d.symmetry.indtofockdict"
   ]
  },
  {
   "cell_type": "code",
   "execution_count": 9,
   "id": "76f16e5a",
   "metadata": {},
   "outputs": [
    {
     "name": "stdout",
     "output_type": "stream",
     "text": [
      "\u001b[0m\u001b[1mlabels = |\u001b[22m\u001b[0m\u001b[1m(1, :↑)\u001b[22m"
     ]
    },
    {
     "name": "stdout",
     "output_type": "stream",
     "text": [
      ",\u001b[0m\u001b[1m(2, :↑)\u001b[22m,\u001b[0m\u001b[1m(1, :↓)\u001b[22m,\u001b[0m\u001b[1m(2, :↓)\u001b[22m\u001b[0m\u001b[1m>\u001b[22m\n",
      "QN = 0\n",
      " |0000> : "
     ]
    },
    {
     "name": "stdout",
     "output_type": "stream",
     "text": [
      "0.734\n",
      "QN = 1\n",
      " |1000> : 0.072\n",
      " |0100> : 0.006\n",
      " |0010> : 0.288\n",
      " |0001> : 0.441\n",
      "QN = 2\n",
      " |1100> : 0.812\n",
      " |1010> : 0.858\n",
      " |0110> : 0.312\n",
      " |1001> : 0.071\n",
      " |0101> : 0.442\n",
      " |0011> : 0.591\n",
      "QN = 3\n",
      " |1110> : 0.304\n",
      " |1101> : 0.214\n",
      " |1011> : 0.681\n",
      " |0111> : 0.772\n",
      "QN = 4\n",
      " |1111> : 0.377\n"
     ]
    }
   ],
   "source": [
    "pretty_print(rand(4^N), d)"
   ]
  },
  {
   "cell_type": "markdown",
   "id": "f68f335a",
   "metadata": {},
   "source": [
    "Any quantum number which is diagonal in the fock basis is supported"
   ]
  },
  {
   "cell_type": "code",
   "execution_count": 10,
   "id": "7c9fb57e",
   "metadata": {},
   "outputs": [
    {
     "data": {
      "text/plain": [
       "FermionBasis{2,Int64,SparseArrays.SparseMatrixCSC{Int64, Int64},QuantumDots.AbelianFockSymmetry{Vector{Int64}, Dictionaries.Dictionary{Int64, Int64}, Symbol, typeof(newqn)}}:\n",
       "keys = {1, 2}"
      ]
     },
     "metadata": {},
     "output_type": "display_data"
    }
   ],
   "source": [
    "newqn(focknbr) =\n",
    "    if iseven(focknbr)\n",
    "        return :🦄\n",
    "    else\n",
    "        if focknbr > 2\n",
    "            return :👹\n",
    "        else\n",
    "            return :🌯\n",
    "        end\n",
    "    end\n",
    "d2 = FermionBasis(1:2; qn=newqn)"
   ]
  },
  {
   "cell_type": "code",
   "execution_count": 11,
   "id": "3597d3a3",
   "metadata": {},
   "outputs": [
    {
     "name": "stdout",
     "output_type": "stream",
     "text": [
      "\u001b[0m\u001b[1mlabels = |\u001b[22m\u001b[0m\u001b[1m1\u001b[22m,\u001b[0m\u001b[1m2\u001b[22m\u001b[0m\u001b[1m>\u001b[22m\n"
     ]
    },
    {
     "name": "stdout",
     "output_type": "stream",
     "text": [
      "QN = 🌯\n",
      " |10> : 0.526\n",
      "QN = 👹\n",
      " |11> : 0.456\n",
      "QN = 🦄\n",
      " |00> : 0.209\n",
      " |01> : 0.973\n"
     ]
    }
   ],
   "source": [
    "pretty_print(rand(4), d2)"
   ]
  },
  {
   "cell_type": "code",
   "execution_count": 12,
   "id": "b35abbfa",
   "metadata": {},
   "outputs": [
    {
     "data": {
      "text/plain": [
       "2-dimensional \u001b[1mKeyedArray(NamedDimsArray(...))\u001b[22m with keys:\n",
       "↓   \u001b[31mrow ∈ \u001b[39m\u001b[31m4-element Vector{QuantumDots.ColoredString{Int64}}\u001b[39m\n",
       "→   \u001b[31mcol ∈ \u001b[39m\u001b[31m4-element Vector{QuantumDots.ColoredString{Int64}}\u001b[39m\n",
       "And data, \u001b[0m\u001b[1m4×4 Matrix{Float64}\u001b[22m:\n",
       " \u001b[0m           \u001b[38;5;1m(\"|10>\")\u001b[39m   \u001b[38;5;2m(\"|11>\")\u001b[39m   \u001b[38;5;3m(\"|00>\")\u001b[39m   \u001b[38;5;3m(\"|01>\")\u001b[39m\n",
       "  \u001b[38;5;1m(\"|10>\")\u001b[39m   0.306265   0.993756   0.792937   0.979738\n",
       "  \u001b[38;5;2m(\"|11>\")\u001b[39m   0.074596   0.573314   0.828327   0.837119\n",
       "  \u001b[38;5;3m(\"|00>\")\u001b[39m   0.531884   0.165274   0.126559   0.281129\n",
       "  \u001b[38;5;3m(\"|01>\")\u001b[39m   0.697387   0.379799   0.448908   0.927764"
      ]
     },
     "metadata": {},
     "output_type": "display_data"
    },
    {
     "name": "stdout",
     "output_type": "stream",
     "text": [
      "\u001b[0m\u001b[1mlabels = |12>\u001b[22m\n",
      "\u001b[0m\u001b[1mQNs = [\u001b[22m\u001b[38;5;1m\u001b[1m🌯\u001b[22m\u001b[39m\u001b[38;5;1m\u001b[1m,\u001b[22m\u001b[39m \u001b[38;5;2m\u001b[1m👹\u001b[22m\u001b[39m\u001b[38;5;2m\u001b[1m,\u001b[22m\u001b[39m \u001b[38;5;3m\u001b[1m🦄\u001b[22m\u001b[39m\u001b[38;5;3m\u001b[1m,\u001b[22m\u001b[39m\u001b[0m\u001b[1m]\u001b[22m\n"
     ]
    }
   ],
   "source": [
    "pretty_print(rand(4,4), d2)"
   ]
  },
  {
   "cell_type": "markdown",
   "id": "86595b48",
   "metadata": {},
   "source": [
    "There is also a free fermion version. Multiplying two BdG fermions gives a BdG matrix."
   ]
  },
  {
   "cell_type": "code",
   "execution_count": 13,
   "id": "0f42953f",
   "metadata": {},
   "outputs": [
    {
     "data": {
      "text/plain": [
       "FermionBdGBasis{3, Int64}({1 = 1, 2 = 2, 3 = 3})"
      ]
     },
     "metadata": {},
     "output_type": "display_data"
    }
   ],
   "source": [
    "b = FermionBdGBasis(1:3)"
   ]
  },
  {
   "cell_type": "code",
   "execution_count": 14,
   "id": "182cc90e",
   "metadata": {},
   "outputs": [
    {
     "data": {
      "text/plain": [
       "QuantumDots.BdGFermion{Int64, FermionBdGBasis{3, Int64}, Bool}(1, FermionBdGBasis{3, Int64}({1 = 1, 2 = 2, 3 = 3}), true, true)"
      ]
     },
     "metadata": {},
     "output_type": "display_data"
    }
   ],
   "source": [
    "b[1] #Annihilation operator, but not a matrix"
   ]
  },
  {
   "cell_type": "code",
   "execution_count": 15,
   "id": "33657c68",
   "metadata": {},
   "outputs": [
    {
     "data": {
      "text/plain": [
       "6×6 SparseArrays.SparseMatrixCSC{Int64, Int64} with 8 stored entries:\n",
       " ⋅   1  ⋅   ⋅   1  ⋅\n",
       " 1   ⋅  ⋅  -1   ⋅  ⋅\n",
       " ⋅   ⋅  ⋅   ⋅   ⋅  ⋅\n",
       " ⋅  -1  ⋅   ⋅  -1  ⋅\n",
       " 1   ⋅  ⋅  -1   ⋅  ⋅\n",
       " ⋅   ⋅  ⋅   ⋅   ⋅  ⋅"
      ]
     },
     "metadata": {},
     "output_type": "display_data"
    }
   ],
   "source": [
    "b[1]'b[2] - b[1]b[2] + hc # BdG matrix"
   ]
  },
  {
   "cell_type": "markdown",
   "id": "8860234c",
   "metadata": {},
   "source": [
    "And a Qubit basis:"
   ]
  },
  {
   "cell_type": "code",
   "execution_count": 16,
   "id": "01d11e13",
   "metadata": {},
   "outputs": [
    {
     "data": {
      "text/plain": [
       "4×4 SparseArrays.SparseMatrixCSC{Int64, Int64} with 4 stored entries:\n",
       " ⋅  1  ⋅  ⋅\n",
       " 1  ⋅  ⋅  ⋅\n",
       " ⋅  ⋅  ⋅  1\n",
       " ⋅  ⋅  1  ⋅"
      ]
     },
     "metadata": {},
     "output_type": "display_data"
    }
   ],
   "source": [
    "Q = QuantumDots.QubitBasis(1:N)\n",
    "Q[1] # Lowering operator of first qubit\n",
    "Q[1,:X] #X operator acting on the first qubit (X⊗I)"
   ]
  },
  {
   "cell_type": "markdown",
   "id": "cdebe2dc",
   "metadata": {},
   "source": [
    "### <a id='toc1_1_2_'></a>[Kitaev chain hamiltonian](#toc0_)\n",
    "We'll implement the interacting Kitaev chain hamiltonian\n",
    "$$\n",
    "\\begin{equation}\n",
    "H = \\sum_{n = 1}^N \\mu c_n^\\dagger c_n + \\sum_{n=1}^{N-1} (t c_{n+1}^\\dagger c_n + \\Delta c_{n+1}c_n + \\mathrm{h.c}) + V c_{n+1}^\\dagger c_{n+1} c_n^\\dagger c_n,\n",
    "\\end{equation}\n",
    "$$\n",
    "and calculate the energy gap and majorana polarization. We'll use these to tune for a sweet spot where the system has two separated majoranas."
   ]
  },
  {
   "cell_type": "code",
   "execution_count": 17,
   "id": "b67caf05",
   "metadata": {},
   "outputs": [
    {
     "data": {
      "text/plain": [
       "Hint (generic function with 2 methods)"
      ]
     },
     "metadata": {},
     "output_type": "display_data"
    }
   ],
   "source": [
    "N = 2\n",
    "c = FermionBasis(1:N, qn=QuantumDots.parity)\n",
    "\n",
    "Hdot(μ, c) = sum(μ * c[n]'c[n] for n ∈ 1:N)\n",
    "\n",
    "Hcoup(t, Δ, c) = sum(t * c[n+1]'c[n] + Δ * c[n+1]c[n] + hc for n ∈ 1:N-1)\n",
    "\n",
    "Hint(V, c) = sum(V * c[n]'c[n]c[n+1]'c[n+1] for n ∈ 1:N-1)\n",
    "\n",
    "H(μ, t, Δ, V, c=c) = Hdot(μ, c) + Hcoup(t, Δ, c) + Hint(V, c)\n",
    "\n",
    "cBdG = FermionBdGBasis(1:N)\n",
    "Hint(V, c::FermionBdGBasis) = first(c)first(c)"
   ]
  },
  {
   "cell_type": "code",
   "execution_count": 18,
   "id": "dd916905",
   "metadata": {},
   "outputs": [
    {
     "data": {
      "text/plain": [
       "(μ, t, Δ, V)"
      ]
     },
     "metadata": {},
     "output_type": "display_data"
    }
   ],
   "source": [
    "SymPy.@syms μ::real t::real Δ::real V::real"
   ]
  },
  {
   "cell_type": "code",
   "execution_count": 19,
   "id": "f67a069b",
   "metadata": {},
   "outputs": [
    {
     "data": {
      "text/plain": [
       "4×4 SparseArrays.SparseMatrixCSC{SymPy.Sym, Int64} with 7 stored entries:\n",
       " μ  t   ⋅        ⋅\n",
       " t  μ   ⋅        ⋅\n",
       " ⋅  ⋅   ⋅       -Δ\n",
       " ⋅  ⋅  -Δ  V + 2*μ"
      ]
     },
     "metadata": {},
     "output_type": "display_data"
    }
   ],
   "source": [
    "SymPy.@syms μ::real t::real Δ::real V::real # Define some symbolic variables\n",
    "H(μ, t, Δ, V) #Many body hamiltonian"
   ]
  },
  {
   "cell_type": "code",
   "execution_count": 20,
   "id": "27d60354",
   "metadata": {},
   "outputs": [
    {
     "name": "stdout",
     "output_type": "stream",
     "text": [
      "\\begin{equation}\n",
      "\\left[\n",
      "\\begin{array}{cccc}\n",
      "\\mu & t & 0 & 0 \\\\\n",
      "t & \\mu & 0 & 0 \\\\\n",
      "0 & 0 & 0 &  - \\Delta \\\\\n",
      "0 & 0 &  - \\Delta & V + 2 \\cdot \\mu \\\\\n",
      "\\end{array}\n",
      "\\right]\n",
      "\\end{equation}\n",
      "\n"
     ]
    }
   ],
   "source": [
    "H(μ, t, Δ, V) |> Matrix |> latexify |> println"
   ]
  },
  {
   "cell_type": "code",
   "execution_count": 22,
   "id": "adcc4171",
   "metadata": {},
   "outputs": [
    {
     "data": {
      "text/plain": [
       "4×4 SparseArrays.SparseMatrixCSC{SymPy.Sym, Int64} with 12 stored entries:\n",
       " μ   t   ⋅   Δ\n",
       " t   μ  -Δ   ⋅\n",
       " ⋅  -Δ  -μ  -t\n",
       " Δ   ⋅  -t  -μ"
      ]
     },
     "metadata": {},
     "output_type": "display_data"
    }
   ],
   "source": [
    "H(μ, t, Δ, V, cBdG) #BdG hamiltonian"
   ]
  },
  {
   "cell_type": "markdown",
   "id": "386aa9c3",
   "metadata": {},
   "source": [
    "#### <a id='toc1_1_2_1_'></a>[Diagonalizing the Hamiltonian](#toc0_)"
   ]
  },
  {
   "cell_type": "code",
   "execution_count": 23,
   "id": "2c2ec51e",
   "metadata": {},
   "outputs": [
    {
     "data": {
      "text/plain": [
       "ground_energies (generic function with 1 method)"
      ]
     },
     "metadata": {},
     "output_type": "display_data"
    }
   ],
   "source": [
    "block_eigen(H, c=c) = diagonalize(blockdiagonal(H, c))\n",
    "ground_states(eigs) = map(eig -> eig.vectors[:,1], blocks(eigs; full=true))\n",
    "ground_energies(eigs) = map(eig -> eig.values[1], blocks(eigs; full=true))"
   ]
  },
  {
   "cell_type": "markdown",
   "id": "ccd07ca2",
   "metadata": {},
   "source": [
    "#### <a id='toc1_1_2_2_'></a>[Majorana quality measures](#toc0_)\n",
    "The Majorana Polarization $MP_R$ is a measure of how much the left and right majorana overlap in the region R. The larger it is, the smaller the overlap between the majoranas.\n",
    "$$\\begin{align*}\n",
    "w_n &= \\lang \\psi_o | (c_n^\\dagger + c_n)  | \\psi_e \\rang \\\\\n",
    "z_n &= \\lang \\psi_o | (c_n^\\dagger - c_n)  | \\psi_e \\rang \\\\\n",
    "MP_R &= \\left| \\sum_{n \\in R} w_n^2 - z_n^2 \\right| \n",
    "% MP_R &= \\frac{\\left| \\sum_{n \\in R} w_n^2 - z_n^2 \\right| }{\\sum_{n \\in R}\\left|  w_n \\right|^2 + \\left| z_n \\right|^2}\n",
    "\\end{align*}$$\n"
   ]
  },
  {
   "cell_type": "code",
   "execution_count": 24,
   "id": "4f3c5aa4",
   "metadata": {},
   "outputs": [
    {
     "data": {
      "text/plain": [
       "MP (generic function with 2 methods)"
      ]
     },
     "metadata": {},
     "output_type": "display_data"
    }
   ],
   "source": [
    "function MP(ψₒ, ψₑ, R, c=c)\n",
    "    w = map(f -> ψₒ' * (f' + f) * ψₑ, c)\n",
    "    z = map(f -> ψₒ' * (f' - f) * ψₑ, c)\n",
    "    abs(sum(w[n]^2 - z[n]^2 for n ∈ R))# / sum(abs2(w[n]) + abs2(z[n]) for n ∈ R)\n",
    "end"
   ]
  },
  {
   "cell_type": "markdown",
   "id": "9925ae52",
   "metadata": {},
   "source": [
    "The Local Distinguishability $LD_R$ measures how much the even and odd ground states can be distinguished based on measurements in the region R. \n",
    "$$\\begin{align*}\n",
    "\\delta \\rho &= |\\psi_o \\rang \\lang \\psi_o | - |\\psi_e \\rang \\lang \\psi_e | \\\\\n",
    "LD_R &=  \\| \\operatorname{Tr}_{R^c}[\\delta\\rho] \\|\n",
    "\\end{align*}$$"
   ]
  },
  {
   "cell_type": "code",
   "execution_count": null,
   "id": "1c91ab1f",
   "metadata": {},
   "outputs": [],
   "source": [
    "function LD(ψₒ, ψₑ, R, c=c)\n",
    "    δρ = ψₒ*ψₒ' - ψₑ*ψₑ'\n",
    "    norm(partial_trace(δρ, R, c))\n",
    "end"
   ]
  },
  {
   "cell_type": "code",
   "execution_count": null,
   "id": "21b7ac22",
   "metadata": {},
   "outputs": [],
   "source": [
    "function fullsolve(μ, t, Δ, V, c=c)\n",
    "    h = H(μ, t, Δ, V, c)\n",
    "    eigs = block_eigen(h, c)\n",
    "    Eₒ, Eₑ = ground_energies(eigs)\n",
    "    ψₒ, ψₑ = ground_states(eigs)\n",
    "    R = 1:(length(c)÷2)\n",
    "    gap = Eₒ - Eₑ\n",
    "    mp = MP(ψₒ, ψₑ, R, c)\n",
    "    ld = LD(ψₒ, ψₑ, R, c)\n",
    "    return (; mp, ld, gap)\n",
    "end"
   ]
  },
  {
   "cell_type": "code",
   "execution_count": null,
   "id": "30320a4f",
   "metadata": {},
   "outputs": [],
   "source": [
    "μs = range(-2, 2, length=100)\n",
    "ts = range(-2, 2, length=100)\n",
    "data = [fullsolve(μ, t, 1.0, 1.0) for μ in μs, t in ts];"
   ]
  },
  {
   "cell_type": "code",
   "execution_count": null,
   "id": "4ae67949",
   "metadata": {},
   "outputs": [],
   "source": [
    "p1 = heatmap(μs, ts, map(x -> tanh(x.gap), data)', xlabel=\"μ\", ylabel=\"t\", title=\"Energy gap\", c=:redsblues, clims=(-1, 1))\n",
    "p2 = heatmap(μs, ts, map(x -> x.mp, data)', xlabel=\"μ\", ylabel=\"t\", title=\"MP\", c=:viridis, clims=(0, 1))\n",
    "fig = plot(p1, p2, size=400 .* (2, 1))"
   ]
  },
  {
   "cell_type": "markdown",
   "id": "5086ed83",
   "metadata": {},
   "source": [
    "#### <a id='toc1_1_2_3_'></a>[Using SymPy for analytical solutions](#toc0_)"
   ]
  },
  {
   "cell_type": "code",
   "execution_count": null,
   "id": "20637c14",
   "metadata": {},
   "outputs": [],
   "source": [
    "function fullsolve(μ::SymPy.Sym, t, Δ, V, c=c)\n",
    "    h = blockdiagonal(H(μ, t, Δ, V), c)\n",
    "    ho, he = SymPy.Matrix.(Matrix.(blocks(h)))\n",
    "    vecs_o, vals_o = ho.diagonalize()\n",
    "    vecs_e, vals_e = he.diagonalize()\n",
    "    Ee = diag(vals_e)[1]\n",
    "    ve = vcat(zero(vecs_e[:, 1]), vecs_e[:, 1])\n",
    "    Eo = diag(vals_o)[1]\n",
    "    vo = vcat(vecs_o[:, 1], zero(vecs_o[:, 1]))\n",
    "    R = 1:length(c)÷2\n",
    "    return (; mp=MP(vo, ve, R, c), ld=LD(vo, ve, R, c), gap=Eo - Ee)\n",
    "end"
   ]
  },
  {
   "cell_type": "code",
   "execution_count": null,
   "id": "e39ee55b",
   "metadata": {},
   "outputs": [],
   "source": [
    "SymPy.@syms μ::real t::real Δ::real V::real\n",
    "foreach(p->(display(p[1]); display(p[2])), pairs(fullsolve(μ, t, Δ, V)))"
   ]
  },
  {
   "cell_type": "markdown",
   "id": "ba014459",
   "metadata": {},
   "source": [
    "### <a id='toc1_1_3_'></a>[Optimizing for the sweet spot](#toc0_)\n",
    "We'll define the sweet spot as the spot where the MP is largest and with an exact energy degeneracy. The optimization problem is\n",
    "$$\n",
    "\\begin{aligned}\n",
    "\\max_{X} \\quad & MP(X)\\\\\n",
    "\\textrm{s.t.} \\quad & \\delta E(X) = 0\n",
    "\\end{aligned}\n",
    "$$ where $X$ denotes the parameters we optimize over.\n",
    "\n",
    "We can check the documentation of [Optimization.jl](https://github.com/SciML/Optimization.jl) to find, and call to, a suitable package to solve this problem. "
   ]
  },
  {
   "cell_type": "markdown",
   "id": "d0a9e217",
   "metadata": {},
   "source": [
    "Here, we will use [BlackBoxOptim.jl](https://github.com/robertfeldt/BlackBoxOptim.jl) directly. This package does gradient-free optimization, so we don't have to figure out how to take derivatives. However, it does not support constraints, so we will enforce the constraint by the [Penalty Method](https://en.wikipedia.org/wiki/Penalty_method) where we instead minimize\n",
    "$$\\begin{equation*}\n",
    "\\min_{X} \\quad \\lambda \\delta E(X)^2 - MP(X)\n",
    "\\end{equation*}$$\n",
    "where $\\lambda$ is a large positive number. This will make the optimizer prefer solutions with a smaller energy difference."
   ]
  },
  {
   "cell_type": "code",
   "execution_count": null,
   "id": "db814f02",
   "metadata": {},
   "outputs": [],
   "source": [
    "#Let's assume that Δ and V are fixed and we optimize over μ and t\n",
    "function cost(x; Δ=1.0, V=1.0, λ=1e3, c=c)\n",
    "    μ, t = x\n",
    "    (; gap, mp, ld) = fullsolve(μ, t, Δ, V, c)\n",
    "    λ * gap^2 - mp\n",
    "end"
   ]
  },
  {
   "cell_type": "code",
   "execution_count": null,
   "id": "e956c1c0",
   "metadata": {},
   "outputs": [],
   "source": [
    "using BlackBoxOptim\n",
    "opt = bboptimize(cost; NumDimensions=2)\n",
    "sweet_spot = best_candidate(opt)"
   ]
  },
  {
   "cell_type": "code",
   "execution_count": null,
   "id": "32cf5dff",
   "metadata": {},
   "outputs": [],
   "source": [
    "foreach(n -> scatter!(fig[n], [sweet_spot[1]], [sweet_spot[2]], c = :red, markersize = 5, label = \"Sweet spot\"), 1:2)\n",
    "fig"
   ]
  },
  {
   "cell_type": "markdown",
   "id": "41fb9cc0",
   "metadata": {},
   "source": [
    "### <a id='toc1_1_4_'></a>[Transport](#toc0_)"
   ]
  },
  {
   "cell_type": "code",
   "execution_count": null,
   "id": "e5c798e1",
   "metadata": {},
   "outputs": [],
   "source": [
    "function get_leads(c, T, μ, Γ=1)\n",
    "    N = length(c)\n",
    "    left = QuantumDots.NormalLead(Γ * c[1]'; T, μ=μ[1])\n",
    "    right = QuantumDots.NormalLead(Γ * c[N]'; T, μ=μ[2])\n",
    "    return (; left, right)\n",
    "end"
   ]
  },
  {
   "cell_type": "code",
   "execution_count": null,
   "id": "4d3f31de",
   "metadata": {},
   "outputs": [],
   "source": [
    "function conductance(H,T,V1,V2; alg = QuantumDots.Pauli())\n",
    "    leads = get_leads(c,T,(V1,V2))\n",
    "    sys = alg(QuantumDots.diagonalize(QuantumDots.OpenSystem(H, leads)));\n",
    "    conductance_matrix(sys)\n",
    "end"
   ]
  },
  {
   "cell_type": "code",
   "execution_count": null,
   "id": "4c6c8d1d",
   "metadata": {},
   "outputs": [],
   "source": [
    "function fullsolve_transport(μ, t, Δ, V, c=c; V1=0.0, V2=0.0, T=Δ / 40)\n",
    "    h = H(μ, t, Δ, V, c)\n",
    "    eigen = block_eigen(h, c)\n",
    "    Eₒ, Eₑ = ground_energies(eigen)\n",
    "    ψₒ, ψₑ = ground_states(eigen)\n",
    "    N = length(c)\n",
    "    R = 1:N÷2\n",
    "    mp = MP(ψₒ, ψₑ, R, c)\n",
    "    ld = LD(ψₒ, ψₑ, R, c)\n",
    "    gap = Eₒ - Eₑ\n",
    "    cond = conductance(h, T, V1, V2)\n",
    "    return (; mp, ld, gap, cond)\n",
    "end"
   ]
  },
  {
   "cell_type": "code",
   "execution_count": null,
   "id": "10d45484",
   "metadata": {},
   "outputs": [],
   "source": [
    "using ForwardDiff"
   ]
  },
  {
   "cell_type": "code",
   "execution_count": null,
   "id": "31fc154d",
   "metadata": {},
   "outputs": [],
   "source": [
    "μs = range(-2, 2, length=100)\n",
    "ts = range(-2, 2, length=100)\n",
    "data_transport = [fullsolve_transport(μ, t, 1.0, 1.0) for μ in μs, t in ts];"
   ]
  },
  {
   "cell_type": "code",
   "execution_count": null,
   "id": "06ffa412",
   "metadata": {},
   "outputs": [],
   "source": [
    "p1 = heatmap(μs, ts, map(x -> tanh(x.gap), data_transport)', xlabel=\"μ\", ylabel=\"t\", title=\"Energy gap\", c=:redsblues, clims=(-1, 1))\n",
    "p2 = heatmap(μs, ts, map(x -> x.mp, data_transport)', xlabel=\"μ\", ylabel=\"t\", title=\"MP\", c=:viridis, clims=(0, 1))\n",
    "p3 = heatmap(μs, ts, map(x -> x.cond[1, 1] , data_transport)', xlabel=\"μ\", ylabel=\"t\", title=\"Conductance\", c=:amp, clims=(0, 10))\n",
    "p4 = heatmap(μs, ts, map(x -> x.cond[1, 2], data_transport)', xlabel=\"μ\", ylabel=\"t\", title=\"Non-local conductance\", c=:redsblues, clims=(-10, 10))\n",
    "plot(p1, p2, p3, p4, size=400 .* (2, 2))"
   ]
  },
  {
   "cell_type": "code",
   "execution_count": null,
   "id": "d26e2b02",
   "metadata": {},
   "outputs": [],
   "source": [
    "μs = range(-2, 2, length=100)\n",
    "bias = range(-4,4, length=100)\n",
    "@time data_transport_bias = let V = .0\n",
    "[fullsolve_transport(μ, 1.0- V/2, 1.0, V; V1=bias/2, V2=-bias/2) for μ in μs, bias in bias]\n",
    "end;\n",
    "data_transport_bias2 = let V = 1.5\n",
    "[fullsolve_transport(μ, 1.0- V/2, 1.0, V; V1=bias/2, V2=-bias/2) for μ in μs, bias in bias]\n",
    "end;"
   ]
  },
  {
   "cell_type": "code",
   "execution_count": null,
   "id": "8cc969e7",
   "metadata": {},
   "outputs": [],
   "source": [
    "p1 = heatmap(μs, bias, map(x -> x.cond[1, 1], data_transport_bias)', xlabel=\"μ\", ylabel=\"bias\", title=\"Conductance, V=0\", c=:amp, clims=(0, 10))\n",
    "p2 = heatmap(μs, bias, map(x -> x.cond[1, 2], data_transport_bias)', xlabel=\"μ\", ylabel=\"bias\", title=\"Non-local conductance\", c=:redsblues, clims=(-10, 10))\n",
    "p3 = heatmap(μs, bias, map(x -> x.cond[1, 1], data_transport_bias2)', xlabel=\"μ\", ylabel=\"bias\", title=\"Conductance, V=1.5Δ\", c=:amp, clims=(0, 10))\n",
    "p4 = heatmap(μs, bias, map(x -> x.cond[1, 2], data_transport_bias2)', xlabel=\"μ\", ylabel=\"bias\", title=\"Non-local conductance\", c=:redsblues, clims=(-10, 10))\n",
    "plot(p1, p2, p3, p4, size=300 .* (2.5, 2))"
   ]
  },
  {
   "cell_type": "code",
   "execution_count": null,
   "id": "7b670f24",
   "metadata": {},
   "outputs": [],
   "source": []
  }
 ],
 "metadata": {
  "kernelspec": {
   "display_name": "Julia 1.10.0",
   "language": "julia",
   "name": "julia-1.10"
  },
  "language_info": {
   "file_extension": ".jl",
   "mimetype": "application/julia",
   "name": "julia",
   "version": "1.10.0"
  }
 },
 "nbformat": 4,
 "nbformat_minor": 5
}
